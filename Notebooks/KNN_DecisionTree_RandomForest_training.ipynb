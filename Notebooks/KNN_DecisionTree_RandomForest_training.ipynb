{
 "cells": [
  {
   "cell_type": "code",
   "execution_count": 13,
   "id": "e4d1fee6",
   "metadata": {},
   "outputs": [],
   "source": [
    "from tqdm.notebook import tqdm\n",
    "import random"
   ]
  },
  {
   "cell_type": "code",
   "execution_count": 14,
   "id": "427f670c",
   "metadata": {},
   "outputs": [],
   "source": [
    "def get_product_data(filename=  'data_pos_neg_neu.txt',\n",
    "                     product_map_file = 'product_id_map.txt'):\n",
    "    '''\n",
    "    read the list of dict for postive,negative,neutral feedback\n",
    "    output:\n",
    "        data: list of dict , user product interaction\n",
    "        mapping: mapping between product id and product name\n",
    "    '''\n",
    "    data = []\n",
    "    with open(filename) as f:\n",
    "        for i, line in enumerate(f):\n",
    "            try:\n",
    "                d = eval(line)\n",
    "            except:\n",
    "                print(\"*****Error*****\")\n",
    "                print(i,line)\n",
    "                print(\"*********END of ERROR *******\")\n",
    "                break\n",
    "            else:\n",
    "                data.append(d)\n",
    "    with open(product_map_file, 'r', encoding='utf-8') as map_file:\n",
    "        product_id_map = eval(map_file.readline())\n",
    "    return data, product_id_map\n",
    "def get_user_data(user_data_file = 'data_userInfo.txt',\n",
    "              user_data_map_file = 'user_data_map.txt'):\n",
    "    '''\n",
    "    Load 1. user info data \n",
    "        2. corresponding mapping relation\n",
    "         supporting corresponding transformation\n",
    "    '''\n",
    "    data_userInfo =[]\n",
    "    with open(user_data_file, 'r', encoding='utf-8') as input_file:\n",
    "        for line in tqdm(input_file):\n",
    "            data_userInfo.append(eval(line))\n",
    "    user_data_map ={}\n",
    "    with open(user_data_map_file, 'r', encoding='utf-8') as input_file:\n",
    "        for line in input_file:\n",
    "            key,dic = line.split('#')\n",
    "            user_data_map[key] = eval(dic)\n",
    "    return data_userInfo,user_data_map"
   ]
  },
  {
   "cell_type": "code",
   "execution_count": 15,
   "id": "f4612e40",
   "metadata": {},
   "outputs": [],
   "source": [
    "def save_user_map(user_map,file_name = 'user_data_map.txt'):\n",
    "    import json\n",
    "    with open(file_name, 'w', encoding='utf-8') as output_file:\n",
    "        for key in tqdm(user_map):\n",
    "            try:\n",
    "                output_file.write(f'{key}#')\n",
    "                json.dump(user_data_map[key], output_file) \n",
    "                output_file.write(\"\\n\")\n",
    "            except:\n",
    "                print(\"ERROR\")\n",
    "                print(f\"key: {key}, values: {user_data_map[key]}\")\n",
    "                break\n",
    "        print('done!')"
   ]
  },
  {
   "cell_type": "code",
   "execution_count": 16,
   "id": "38f228d9",
   "metadata": {},
   "outputs": [],
   "source": [
    " def transform_interaction_data(data):\n",
    "    '''\n",
    "    read in the postive, negative,neutral data\n",
    "    perform one of the following transformation\n",
    "        if four_deg:\n",
    "          4 degree \"one-hot encoding\" (0:missing,1:Neutral, 5:positive,-5 negative)\n",
    "        else:\n",
    "          user-product interact \n",
    "    '''\n",
    "    transformed = []\n",
    "    for i,sample in enumerate(data):\n",
    "        user_id = i+1\n",
    "        for p in sample['pos']:\n",
    "            transformed.append([user_id,product_id_map[p],5])\n",
    "        for neg in sample['neg']:\n",
    "            transformed.append([user_id,product_id_map[neg],-5])\n",
    "        for neu in sample['neu']:\n",
    "            transformed.append([user_id,product_id_map[neu],1])\n",
    "    return transformed"
   ]
  },
  {
   "cell_type": "code",
   "execution_count": 17,
   "id": "fb639813",
   "metadata": {},
   "outputs": [],
   "source": [
    "def transform_userInfo(sample,tran_map,exclude_list= [],range_map = False):\n",
    "    selected = list(tran_map.keys())\n",
    "    for ele in exclude_list:\n",
    "        selected.remove(ele)\n",
    "    feature = []\n",
    "    feature_range_map = {}\n",
    "    last_size = 0\n",
    "    for cat in selected:\n",
    "        if cat == 'ConvertedCompYearly' or cat == 'CompTotal':\n",
    "            value = sample[cat]\n",
    "            assert isinstance(value,float) or isinstance(value,int)\n",
    "            if value == -1: # missing value\n",
    "                value = -1\n",
    "            elif value< tran_map[cat]['min']:\n",
    "                value = tran_map[cat]['min']\n",
    "            elif value> tran_map[cat]['max']:\n",
    "                value = tran_map[cat]['max']\n",
    "            feature.append(value)\n",
    "        elif cat == 'YearsCode' or cat == 'YearsCodePro':\n",
    "            value = sample[cat][0] if isinstance(sample[cat],list) else sample[cat]\n",
    "            if value == -1:\n",
    "                value =-1\n",
    "            elif value == 'Less than 1 year':\n",
    "                value = tran_map[cat]['min']\n",
    "            elif value == 'More than 50 years' or int(value)> tran_map[cat]['max']:\n",
    "                value= tran_map[cat]['max']\n",
    "            feature.append(int(value))\n",
    "        else:\n",
    "            one_hot = [0] * len(tran_map[cat])\n",
    "            if sample[cat] != -1: # not missing\n",
    "                for ans in sample[cat]:\n",
    "                    one_hot[tran_map[cat][ans]] =1\n",
    "            feature.extend(one_hot)\n",
    "        if range_map:\n",
    "            feature_range_map[cat] = [last_size,len(feature)]\n",
    "            last_size =  len(feature)\n",
    "    if range_map:\n",
    "        return feature, feature_range_map\n",
    "    return feature"
   ]
  },
  {
   "cell_type": "code",
   "execution_count": 18,
   "id": "3c64ae4b",
   "metadata": {},
   "outputs": [],
   "source": [
    "#sample_fea,range_map =transform_userInfo(user_sample,user_map,range_map = True)\n",
    "def check_user_feature(sample_fea,user_sample,range_map):\n",
    "    for key in range_map:\n",
    "        start,end = range_map[key]\n",
    "        print(f\"key: {key},feature:{sample_fea[start:end]},true_val: {user_sample[key]}\")"
   ]
  },
  {
   "cell_type": "code",
   "execution_count": 19,
   "id": "e709b4ef",
   "metadata": {},
   "outputs": [],
   "source": [
    "def transform_product_modOneHot(sample):\n",
    "    product_feedback = [0] * 131 # len(product_id_map) =131\n",
    "    for p in sample['pos']:\n",
    "        product_feedback[product_id_map[p]] = 5\n",
    "    for neg in sample['neg']:\n",
    "        product_feedback[product_id_map[neg]] = -5\n",
    "    for neu in sample['neu']:\n",
    "        product_feedback[product_id_map[neu]] = 1\n",
    "    return product_feedback\n",
    "\n",
    "def transform_user_product_data(user_data,product_data,tran_map,exclude_list=[]):\n",
    "    '''\n",
    "    read in the postive, negative,neutral data\n",
    "    perform one of the following transformation\n",
    "        if four_deg:\n",
    "          4 degree \"one-hot encoding\" (0:missing,1:Neutral, 5:positive,-5 negative)\n",
    "        else:\n",
    "          user-product interact \n",
    "    '''\n",
    "    feature = []\n",
    "    label =[]\n",
    "    sample_fea,range_map = transform_userInfo(user_data[0],tran_map,range_map = True,exclude_list= exclude_list)\n",
    "    feature.append(sample_fea)\n",
    "    for sample in user_data[1:]:\n",
    "        sample_fea= transform_userInfo(sample,tran_map,range_map = False,exclude_list=exclude_list)\n",
    "        feature.append(sample_fea)\n",
    "    for sample in product_data:\n",
    "        label.append(transform_product_modOneHot(sample))\n",
    "    return feature,label,range_map"
   ]
  },
  {
   "cell_type": "code",
   "execution_count": 20,
   "id": "18418aa0",
   "metadata": {},
   "outputs": [],
   "source": [
    "# test transform_user_product_data\n",
    "# impletement KNN"
   ]
  },
  {
   "cell_type": "code",
   "execution_count": 21,
   "id": "426ac150",
   "metadata": {},
   "outputs": [
    {
     "data": {
      "application/vnd.jupyter.widget-view+json": {
       "model_id": "e2cb3dbba01149f1a0c198be76336a79",
       "version_major": 2,
       "version_minor": 0
      },
      "text/plain": [
       "0it [00:00, ?it/s]"
      ]
     },
     "metadata": {},
     "output_type": "display_data"
    }
   ],
   "source": [
    "user_data,user_map = get_user_data()\n",
    "product_data,product_id_map = get_product_data()\n",
    "transformed_feature,label,range_map = transform_user_product_data(user_data,product_data,user_map,exclude_list= ['CompTotal','ConvertedCompYearly','CompFreq','Currency'])"
   ]
  },
  {
   "cell_type": "code",
   "execution_count": 22,
   "id": "e642e984",
   "metadata": {},
   "outputs": [
    {
     "data": {
      "text/plain": [
       "\"ind  = random.randrange(len(transformed_feature))\\nprint(ind)\\ncheck_user_feature(transformed_feature[ind],user_data[ind],range_map)\\nprint(f'label: {label[ind]},product_data: {product_data[ind]}')\""
      ]
     },
     "execution_count": 22,
     "metadata": {},
     "output_type": "execute_result"
    }
   ],
   "source": [
    "'''ind  = random.randrange(len(transformed_feature))\n",
    "print(ind)\n",
    "check_user_feature(transformed_feature[ind],user_data[ind],range_map)\n",
    "print(f'label: {label[ind]},product_data: {product_data[ind]}')'''"
   ]
  },
  {
   "cell_type": "code",
   "execution_count": 23,
   "id": "3bb6dbc8",
   "metadata": {},
   "outputs": [],
   "source": [
    "from sklearn.model_selection import cross_validate\n",
    "from sklearn.model_selection import train_test_split\n",
    "from sklearn.neighbors import KNeighborsClassifier\n",
    "from sklearn.model_selection import GridSearchCV\n",
    "import numpy as np"
   ]
  },
  {
   "cell_type": "code",
   "execution_count": 24,
   "id": "5a62e8cf",
   "metadata": {},
   "outputs": [],
   "source": [
    "X_train, X_test, y_train, y_test = train_test_split(transformed_feature,\n",
    "                                                   label,\n",
    "                                                   test_size = 0.2,\n",
    "                                                   random_state = 10)"
   ]
  },
  {
   "cell_type": "code",
   "execution_count": 150,
   "id": "3544c42c",
   "metadata": {},
   "outputs": [
    {
     "data": {
      "text/plain": [
       "GridSearchCV(estimator=KNeighborsClassifier(),\n",
       "             param_grid={'n_neighbors': [1, 3, 5, 7, 11]},\n",
       "             scoring=<function distance at 0x7f2cecd08e50>)"
      ]
     },
     "execution_count": 150,
     "metadata": {},
     "output_type": "execute_result"
    }
   ],
   "source": [
    " def distance(clf, X, y):\n",
    "    y_pred = clf.predict(X)\n",
    "    distance = -np.sum(np.absolute(y-y_pred))/ len(X)\n",
    "    return distance\n",
    "parameters = {'n_neighbors':[1, 3,5,7,11]}\n",
    "knn = KNeighborsClassifier()\n",
    "clf = GridSearchCV(knn, parameters,scoring = distance)\n",
    "clf.fit(X_train, y_train)"
   ]
  },
  {
   "cell_type": "code",
   "execution_count": 156,
   "id": "bb716722",
   "metadata": {},
   "outputs": [
    {
     "data": {
      "text/plain": [
       "{'n_neighbors': 11}"
      ]
     },
     "execution_count": 156,
     "metadata": {},
     "output_type": "execute_result"
    }
   ],
   "source": [
    "clf.best_params_"
   ]
  },
  {
   "cell_type": "code",
   "execution_count": 29,
   "id": "bb9ee885",
   "metadata": {},
   "outputs": [
    {
     "name": "stdout",
     "output_type": "stream",
     "text": [
      "fit_time  mean  3.26820387840271\n",
      "fit_time  std  0.06709007741107274\n",
      "score_time  mean  48.05591616630554\n",
      "score_time  std  2.410340245167876\n",
      "test_score  mean  -122.41976311724045\n",
      "test_score  std  0.3404165230225632\n"
     ]
    }
   ],
   "source": [
    "scores = cross_validate(clf, X_train, y_train,scoring =distance,n_jobs =2)\n",
    "for key, values in scores.items():\n",
    "        print(key,' mean ', values.mean())\n",
    "        print(key,' std ', values.std())"
   ]
  },
  {
   "cell_type": "code",
   "execution_count": 153,
   "id": "ed9346ed",
   "metadata": {},
   "outputs": [],
   "source": [
    "y_pred = clf.predict(X_test)"
   ]
  },
  {
   "cell_type": "code",
   "execution_count": 29,
   "id": "3753f87a",
   "metadata": {},
   "outputs": [],
   "source": [
    "def average_metricsk(y_pred,y_true,product_id_map,k =5):\n",
    "    id_product = {v:k for k,v in product_id_map.items()}\n",
    "    def get_sample_topk_rec(sample):\n",
    "        value_product = []\n",
    "        for ind in range(len(sample)):\n",
    "            if sample[ind] !=0:\n",
    "                value_product.append((sample[ind],id_product[ind]))\n",
    "        return sorted(value_product,reverse= True)\n",
    "    def metricsk(rec1,true_rec,k = 5):\n",
    "        if k > len(true_rec) or len(rec1)==0:\n",
    "            return -1,0,0,0\n",
    "        rec_set = set()\n",
    "        true_set = set()\n",
    "        for count,i1 in enumerate(rec1):\n",
    "            if count >= k:\n",
    "                break\n",
    "            rec_set.add(i1[1])\n",
    "        for count,i2 in enumerate(true_rec):\n",
    "            if count >= k:\n",
    "                break\n",
    "            true_set.add(i2[1])\n",
    "        inter =rec_set.intersection(true_set)\n",
    "        precision_k = len(inter) / k\n",
    "        recall_k = len(inter) / len(true_rec)\n",
    "        F1 = 0 if precision_k + recall_k ==0 else (2 * precision_k * recall_k) / (precision_k + recall_k) \n",
    "#         print(inter,len(inter) / k)\n",
    "        return precision_k,recall_k ,F1, inter\n",
    "    precison_sum = 0\n",
    "    recall_sum = 0\n",
    "    F1_sum =0\n",
    "    count = 0\n",
    "    correct_item = list()\n",
    "    for s1,s2 in zip(y_pred,y_true):\n",
    "        top_rec_pred = get_sample_topk_rec(s1)\n",
    "        top_rec_true = get_sample_topk_rec(s2)\n",
    "        precision,recall,F1,sample_rec_set =metricsk(top_rec_pred,top_rec_true,k)\n",
    "        if precision == -1:continue\n",
    "        correct_item.extend(sample_rec_set)\n",
    "        precison_sum += precision\n",
    "        recall_sum +=recall\n",
    "        F1_sum += F1\n",
    "        count +=1\n",
    "    return precison_sum /count, recall_sum/count, F1_sum/count, correct_item"
   ]
  },
  {
   "cell_type": "code",
   "execution_count": 154,
   "id": "456b07ba",
   "metadata": {},
   "outputs": [
    {
     "data": {
      "text/plain": [
       "(0.22101191207170284, 0.0642974223907517, 0.09498123139742587)"
      ]
     },
     "execution_count": 154,
     "metadata": {},
     "output_type": "execute_result"
    }
   ],
   "source": [
    "aveg_precision,avg_recall,avg_F1, correct = average_metricsk(y_pred,y_test,product_id_map)\n",
    "aveg_precision,avg_recall,avg_F1"
   ]
  },
  {
   "cell_type": "code",
   "execution_count": 155,
   "id": "9bd70951",
   "metadata": {},
   "outputs": [
    {
     "data": {
      "text/plain": [
       "Counter({'Visual Studio Code': 8295,\n",
       "         'React.js': 598,\n",
       "         'Windows': 558,\n",
       "         'Git': 1885,\n",
       "         'TypeScript': 958,\n",
       "         'Python': 1874,\n",
       "         'JavaScript': 789,\n",
       "         'SQL': 1025,\n",
       "         'Sublime Text': 13,\n",
       "         'MacOS': 67,\n",
       "         'SQLite': 49,\n",
       "         'Rust': 24,\n",
       "         'Java': 68,\n",
       "         'Node.js': 159,\n",
       "         'HTML/CSS': 190,\n",
       "         'PostgreSQL': 386,\n",
       "         'C++': 29,\n",
       "         'Visual Studio': 220,\n",
       "         'Xcode': 7,\n",
       "         'IntelliJ': 62,\n",
       "         'Yarn': 14,\n",
       "         'NumPy': 58,\n",
       "         'Docker': 115,\n",
       "         'Redis': 63,\n",
       "         'Kubernetes': 27,\n",
       "         'Pandas': 39,\n",
       "         'MySQL': 154,\n",
       "         'jQuery': 13,\n",
       "         'Vim': 63,\n",
       "         'MongoDB': 26,\n",
       "         'TensorFlow': 6,\n",
       "         'Microsoft SQL Server': 17,\n",
       "         'Notepad++': 34,\n",
       "         'PyCharm': 9,\n",
       "         'Swift': 2,\n",
       "         'Microsoft Azure': 1,\n",
       "         'Kotlin': 5,\n",
       "         'Android Studio': 4,\n",
       "         'Spring': 5,\n",
       "         'Vue.js': 19,\n",
       "         'C': 3,\n",
       "         'Linux-based': 24,\n",
       "         'IPython/Jupyter': 3,\n",
       "         'Unity 3D': 2,\n",
       "         'Ruby': 1,\n",
       "         'Ruby on Rails': 1,\n",
       "         'Torch/PyTorch': 3,\n",
       "         'Google Cloud Platform': 1,\n",
       "         'AWS': 9,\n",
       "         'PHP': 8,\n",
       "         'C#': 3,\n",
       "         'Bash/Shell': 3,\n",
       "         'RStudio': 1,\n",
       "         'R': 2,\n",
       "         'Terraform': 1,\n",
       "         'Firebase': 1,\n",
       "         'Heroku': 1})"
      ]
     },
     "execution_count": 155,
     "metadata": {},
     "output_type": "execute_result"
    }
   ],
   "source": [
    "Counter(correct)"
   ]
  },
  {
   "cell_type": "code",
   "execution_count": 157,
   "id": "47150bbc",
   "metadata": {},
   "outputs": [],
   "source": [
    "from sklearn.tree import DecisionTreeClassifier"
   ]
  },
  {
   "cell_type": "code",
   "execution_count": 158,
   "id": "354aab41",
   "metadata": {},
   "outputs": [
    {
     "data": {
      "text/plain": [
       "DecisionTreeClassifier()"
      ]
     },
     "execution_count": 158,
     "metadata": {},
     "output_type": "execute_result"
    }
   ],
   "source": [
    "dtclf = DecisionTreeClassifier()\n",
    "dtclf.fit(X_train, y_train)"
   ]
  },
  {
   "cell_type": "code",
   "execution_count": 160,
   "id": "8843e902",
   "metadata": {},
   "outputs": [],
   "source": [
    "y_pred = dtclf.predict(X_test)\n",
    "aveg_precision,avg_recall,avg_F1, correct = average_metricsk(y_pred,y_test,product_id_map)\n",
    "aveg_precision,avg_recall,avg_F1"
   ]
  },
  {
   "cell_type": "code",
   "execution_count": 162,
   "id": "4a0ad0b0",
   "metadata": {},
   "outputs": [
    {
     "data": {
      "text/plain": [
       "Counter({'Vim': 642,\n",
       "         'Visual Studio Code': 6163,\n",
       "         'PostgreSQL': 280,\n",
       "         'C++': 34,\n",
       "         'Visual Studio': 945,\n",
       "         'Yarn': 341,\n",
       "         'TypeScript': 1398,\n",
       "         'SQL': 1330,\n",
       "         'Python': 1413,\n",
       "         'JavaScript': 190,\n",
       "         'Xcode': 236,\n",
       "         'Redis': 207,\n",
       "         'Node.js': 139,\n",
       "         'Sublime Text': 161,\n",
       "         'MongoDB': 44,\n",
       "         'Vue.js': 284,\n",
       "         'Webstorm': 77,\n",
       "         'React.js': 590,\n",
       "         'jQuery': 297,\n",
       "         'Windows': 283,\n",
       "         'PHP': 42,\n",
       "         'MySQL': 93,\n",
       "         'SQLite': 367,\n",
       "         'Torch/PyTorch': 114,\n",
       "         'Linux-based': 24,\n",
       "         'Terraform': 150,\n",
       "         'Julia': 8,\n",
       "         'PyCharm': 110,\n",
       "         'TensorFlow': 135,\n",
       "         'Kubernetes': 47,\n",
       "         'Notepad++': 150,\n",
       "         'NumPy': 74,\n",
       "         'Git': 459,\n",
       "         'Unity 3D': 87,\n",
       "         'RStudio': 27,\n",
       "         'R': 30,\n",
       "         'Rust': 112,\n",
       "         'Xamarin': 13,\n",
       "         'Pandas': 91,\n",
       "         'Ruby': 28,\n",
       "         'Ruby on Rails': 31,\n",
       "         'Swift': 99,\n",
       "         'Android Studio': 7,\n",
       "         'Docker': 18,\n",
       "         'Microsoft SQL Server': 51,\n",
       "         'Spring': 143,\n",
       "         'Rider': 10,\n",
       "         'Java': 60,\n",
       "         'IntelliJ': 53,\n",
       "         'MacOS': 45,\n",
       "         'Go': 11,\n",
       "         'Oracle': 10,\n",
       "         'MariaDB': 5,\n",
       "         'Qt': 25,\n",
       "         'Kotlin': 49,\n",
       "         'PHPStorm': 8,\n",
       "         'C': 17,\n",
       "         'PowerShell': 18,\n",
       "         'Unreal Engine': 9,\n",
       "         'Microsoft Azure': 17,\n",
       "         'Neovim': 16,\n",
       "         'HTML/CSS': 41,\n",
       "         'Google Cloud Platform': 14,\n",
       "         'Scala': 8,\n",
       "         'Dart': 1,\n",
       "         'Heroku': 2,\n",
       "         'Emacs': 9,\n",
       "         'C#': 12,\n",
       "         'VBA': 10,\n",
       "         'Firebase': 4,\n",
       "         'Symfony': 4,\n",
       "         'React Native': 27,\n",
       "         'Svelte': 6,\n",
       "         'Flutter': 4,\n",
       "         'Matlab': 1,\n",
       "         'Eclipse': 2,\n",
       "         'Bash/Shell': 1,\n",
       "         'Hadoop': 1,\n",
       "         '.NET Framework': 1,\n",
       "         'Django': 1,\n",
       "         'LISP': 1,\n",
       "         'IPython/Jupyter': 7,\n",
       "         'Pulumi': 1,\n",
       "         'Perl': 2,\n",
       "         'AWS': 3,\n",
       "         'Atom': 2,\n",
       "         'DynamoDB': 1,\n",
       "         'DigitalOcean': 1,\n",
       "         'Delphi': 1,\n",
       "         'Windows Subsystem for Linux (WSL)': 1,\n",
       "         'Haskell': 1,\n",
       "         'Elixir': 1})"
      ]
     },
     "execution_count": 162,
     "metadata": {},
     "output_type": "execute_result"
    }
   ],
   "source": [
    "Counter(correct)"
   ]
  },
  {
   "cell_type": "code",
   "execution_count": 25,
   "id": "f26b4a67",
   "metadata": {},
   "outputs": [],
   "source": [
    "from sklearn.ensemble import RandomForestClassifier"
   ]
  },
  {
   "cell_type": "code",
   "execution_count": 26,
   "id": "c7be4fee",
   "metadata": {},
   "outputs": [
    {
     "data": {
      "text/plain": [
       "RandomForestClassifier(max_depth=20)"
      ]
     },
     "execution_count": 26,
     "metadata": {},
     "output_type": "execute_result"
    }
   ],
   "source": [
    "rfclf = RandomForestClassifier(max_depth =20)\n",
    "rfclf.fit(X_train, y_train)"
   ]
  },
  {
   "cell_type": "code",
   "execution_count": 30,
   "id": "5e3fc5e4",
   "metadata": {},
   "outputs": [
    {
     "data": {
      "text/plain": [
       "(0.22949274918923276, 0.06759622174829218, 0.09954696894555772)"
      ]
     },
     "execution_count": 30,
     "metadata": {},
     "output_type": "execute_result"
    }
   ],
   "source": [
    "y_pred = rfclf.predict(X_test)\n",
    "aveg_precision,avg_recall,avg_F1, correct = average_metricsk(y_pred,y_test,product_id_map)\n",
    "aveg_precision,avg_recall,avg_F1"
   ]
  },
  {
   "cell_type": "code",
   "execution_count": null,
   "id": "558717c9",
   "metadata": {},
   "outputs": [],
   "source": []
  }
 ],
 "metadata": {
  "kernelspec": {
   "display_name": "Python 3 (clean)",
   "language": "python",
   "name": "python3_clean"
  },
  "language_info": {
   "codemirror_mode": {
    "name": "ipython",
    "version": 3
   },
   "file_extension": ".py",
   "mimetype": "text/x-python",
   "name": "python",
   "nbconvert_exporter": "python",
   "pygments_lexer": "ipython3",
   "version": "3.9.5"
  }
 },
 "nbformat": 4,
 "nbformat_minor": 5
}
