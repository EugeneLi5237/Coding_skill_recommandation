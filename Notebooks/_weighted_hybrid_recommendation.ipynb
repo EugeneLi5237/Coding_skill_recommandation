{
 "cells": [
  {
   "cell_type": "code",
   "execution_count": 1,
   "id": "0b4b206c",
   "metadata": {},
   "outputs": [],
   "source": [
    "import pandas as pd\n",
    "from matplotlib.pyplot import figure\n",
    "import itertools\n",
    "from tqdm import tqdm\n",
    "from collections import defaultdict\n",
    "import numpy as np\n",
    "from random import shuffle\n",
    "from surprise.model_selection import KFold\n"
   ]
  },
  {
   "cell_type": "code",
   "execution_count": 2,
   "id": "8dee68e9",
   "metadata": {},
   "outputs": [],
   "source": [
    "def get_data(filename=  'data_pos_neg_neu.txt'):\n",
    "    '''\n",
    "    read the list of dict for postive,negative,neutral feedback\n",
    "    '''\n",
    "    data = []\n",
    "    with open(filename) as f:\n",
    "        for i, line in enumerate(f):\n",
    "            try:\n",
    "                d = eval(line)\n",
    "            except:\n",
    "                print(\"*****Error*****\")\n",
    "                print(i,line)\n",
    "                print(\"*********END of ERROR *******\")\n",
    "                break\n",
    "            else:\n",
    "                data.append(d)\n",
    "    return data"
   ]
  },
  {
   "cell_type": "code",
   "execution_count": 3,
   "id": "24d35eca",
   "metadata": {},
   "outputs": [],
   "source": [
    "data = get_data()"
   ]
  },
  {
   "cell_type": "code",
   "execution_count": 4,
   "id": "9e591bed",
   "metadata": {},
   "outputs": [],
   "source": [
    "result = []\n",
    "for j in range(len(data)):    \n",
    "    for i in data[j]['pos']:\n",
    "        result.append(('user'+str(j),i,1))\n",
    "    for i in data[j]['neg']:\n",
    "        result.append(('user'+str(j),i,-1))\n",
    "    for i in data[j]['neu']:\n",
    "        result.append(('user'+str(j),i,0))"
   ]
  },
  {
   "cell_type": "code",
   "execution_count": 5,
   "id": "c996defb",
   "metadata": {},
   "outputs": [],
   "source": [
    "shuffle(result) # 打乱数据"
   ]
  },
  {
   "cell_type": "code",
   "execution_count": 6,
   "id": "e474cbb3",
   "metadata": {},
   "outputs": [
    {
     "name": "stderr",
     "output_type": "stream",
     "text": [
      "100%|██████████| 1859626/1859626 [00:02<00:00, 852449.47it/s]\n"
     ]
    }
   ],
   "source": [
    "# 用dict表示\n",
    "c = []\n",
    "for line in tqdm(result):\n",
    "    d = dict(zip(['user','product','rating'],[]))\n",
    "    d['user'] = line[0]\n",
    "    d['product'] = line[1]\n",
    "    d['rating'] = line[2]\n",
    "    c.append(d)"
   ]
  },
  {
   "cell_type": "code",
   "execution_count": 7,
   "id": "d13a6ec9",
   "metadata": {},
   "outputs": [],
   "source": [
    "# 抄的老师的workbook4\n",
    "productsPerUser = defaultdict(set)\n",
    "itemsPerUser = defaultdict(set)\n",
    "usersPerItem = defaultdict(set)\n",
    "ratingDict = {}"
   ]
  },
  {
   "cell_type": "code",
   "execution_count": 8,
   "id": "9e92b34b",
   "metadata": {},
   "outputs": [],
   "source": [
    "# 把一位用户对应的所有产品整理出来\n",
    "for d in c:\n",
    "    user,item,rating = d['user'],d['product'],d['rating']\n",
    "    productsPerUser[user].add((item,rating))\n",
    "    itemsPerUser[user].add(item)\n",
    "    usersPerItem[item].add(user)\n",
    "    ratingDict[(user,item)] = rating"
   ]
  },
  {
   "cell_type": "code",
   "execution_count": 9,
   "id": "3307183c",
   "metadata": {},
   "outputs": [],
   "source": [
    "# 计算user average 和 item average\n",
    "userAverages = {}\n",
    "itemAverages = {}\n",
    "\n",
    "for u in itemsPerUser:\n",
    "    rs = [ratingDict[(u,i)] for i in itemsPerUser[u]]\n",
    "    userAverages[u] = sum(rs) / len(rs)\n",
    "    \n",
    "for i in usersPerItem:\n",
    "    rs = [ratingDict[(u,i)] for u in usersPerItem[i]]\n",
    "    itemAverages[i] = sum(rs) / len(rs)"
   ]
  },
  {
   "cell_type": "code",
   "execution_count": 10,
   "id": "828a9ba4",
   "metadata": {},
   "outputs": [
    {
     "name": "stderr",
     "output_type": "stream",
     "text": [
      "100%|██████████| 83384/83384 [00:00<00:00, 159346.94it/s]\n"
     ]
    }
   ],
   "source": [
    "# 查看一共有多少pos，neg，neu\n",
    "pos = 0\n",
    "neg = 0\n",
    "neu = 0\n",
    "for i in tqdm([i for i in productsPerUser]):\n",
    "    for j in productsPerUser[i]:\n",
    "        if j[1] == 1:\n",
    "            pos += 1\n",
    "        elif j[1] == -1:\n",
    "            neg += 1\n",
    "        else:\n",
    "            neu += 1"
   ]
  },
  {
   "cell_type": "code",
   "execution_count": 11,
   "id": "8582ef7a",
   "metadata": {},
   "outputs": [
    {
     "data": {
      "text/plain": [
       "(859773, 572505, 427348)"
      ]
     },
     "execution_count": 11,
     "metadata": {},
     "output_type": "execute_result"
    }
   ],
   "source": [
    "pos,neg,neu"
   ]
  },
  {
   "cell_type": "code",
   "execution_count": 12,
   "id": "345f9e47",
   "metadata": {},
   "outputs": [],
   "source": [
    "# similarity functions\n",
    "def Jaccard(s1, s2):\n",
    "    numer = len(s1.intersection(s2))\n",
    "    denom = len(s1.union(s2))\n",
    "    if denom == 0:\n",
    "        return 0\n",
    "    return numer / denom\n",
    "\n",
    "def CosineSet(s1, s2):\n",
    "    # Not a proper implementation, operates on sets so correct for interactions only\n",
    "    numer = len(s1.intersection(s2))\n",
    "    denom = math.sqrt(len(s1)) * math.sqrt(len(s2))\n",
    "    if denom == 0:\n",
    "        return 0\n",
    "    return numer / denom\n",
    "\n",
    "def Cosine(i1, i2):\n",
    "    # Between two items\n",
    "    inter = usersPerItem[i1].intersection(usersPerItem[i2])\n",
    "    numer = 0\n",
    "    denom1 = 0\n",
    "    denom2 = 0\n",
    "    for u in inter:\n",
    "        numer += ratingDict[(u,i1)]*ratingDict[(u,i2)]\n",
    "    for u in usersPerItem[i1]:\n",
    "        denom1 += ratingDict[(u,i1)]**2\n",
    "    for u in usersPerItem[i2]:\n",
    "        denom2 += ratingDict[(u,i2)]**2\n",
    "    denom = math.sqrt(denom1) * math.sqrt(denom2)\n",
    "    if denom == 0: return 0\n",
    "    return numer / denom\n"
   ]
  },
  {
   "cell_type": "code",
   "execution_count": 13,
   "id": "d9382f35",
   "metadata": {},
   "outputs": [],
   "source": [
    "# define the similarity function\n",
    "def mostSimilar(i, N):\n",
    "    similarities = []\n",
    "    items = itemsPerUser[i]\n",
    "    for i2 in itemsPerUser:\n",
    "        if i2 == i: continue\n",
    "        sim = Jaccard(items, itemsPerUser[i2])\n",
    "        #sim = Pearson(i, i2) # Could use alternate similarity metrics straightforwardly\n",
    "        similarities.append((sim,i2))\n",
    "    similarities.sort(reverse=True)\n",
    "    return similarities[:N]"
   ]
  },
  {
   "cell_type": "code",
   "execution_count": 14,
   "id": "7bf63a60",
   "metadata": {},
   "outputs": [
    {
     "data": {
      "text/plain": [
       "[(0.6190476190476191, 'user16778'),\n",
       " (0.5909090909090909, 'user5807'),\n",
       " (0.5652173913043478, 'user22033'),\n",
       " (0.5517241379310345, 'user82333'),\n",
       " (0.5454545454545454, 'user19530'),\n",
       " (0.5357142857142857, 'user76767'),\n",
       " (0.5357142857142857, 'user70477'),\n",
       " (0.5217391304347826, 'user29118'),\n",
       " (0.52, 'user80000'),\n",
       " (0.52, 'user38407')]"
      ]
     },
     "execution_count": 14,
     "metadata": {},
     "output_type": "execute_result"
    }
   ],
   "source": [
    "# find top 10 similar users with user10\n",
    "mostSimilar('user2',10)"
   ]
  },
  {
   "cell_type": "code",
   "execution_count": 15,
   "id": "ab679b8a",
   "metadata": {},
   "outputs": [],
   "source": [
    "# 所有的rating mean\n",
    "ratingMean = sum([d[2] for d in result])/len(result)"
   ]
  },
  {
   "cell_type": "code",
   "execution_count": 16,
   "id": "8c80a250",
   "metadata": {},
   "outputs": [
    {
     "data": {
      "text/plain": [
       "0.15447622263831545"
      ]
     },
     "execution_count": 16,
     "metadata": {},
     "output_type": "execute_result"
    }
   ],
   "source": [
    "\n",
    "ratingMean"
   ]
  },
  {
   "cell_type": "code",
   "execution_count": 17,
   "id": "ca7c6d0e",
   "metadata": {},
   "outputs": [],
   "source": [
    "# 老师的代码\n",
    "reviewsPerUser = defaultdict(list)\n",
    "reviewsPerItem = defaultdict(list)"
   ]
  },
  {
   "cell_type": "code",
   "execution_count": 18,
   "id": "c66824b1",
   "metadata": {},
   "outputs": [],
   "source": [
    "# 老师的代码\n",
    "for d in c:\n",
    "    user,item = d['user'], d['product']\n",
    "    reviewsPerUser[user].append(d)\n",
    "    reviewsPerItem[item].append(d)"
   ]
  },
  {
   "cell_type": "code",
   "execution_count": 19,
   "id": "b94333ca",
   "metadata": {},
   "outputs": [],
   "source": [
    "# 老师的代码\n",
    "def predictRating(user,item):\n",
    "    ratings = []\n",
    "    similarities = []\n",
    "    for d in reviewsPerUser[user]:\n",
    "        i2 = d['product']\n",
    "        if i2 == item: continue\n",
    "        ratings.append(d['rating'] - itemAverages[i2])\n",
    "        similarities.append(Jaccard(usersPerItem[item],usersPerItem[i2]))\n",
    "    if (sum(similarities) > 0):\n",
    "        weightedRatings = [(x*y) for x,y in zip(ratings,similarities)]\n",
    "        return itemAverages[item] + sum(weightedRatings) / sum(similarities)\n",
    "    else:\n",
    "        # User hasn't rated any similar items\n",
    "        return ratingMean"
   ]
  },
  {
   "cell_type": "code",
   "execution_count": 20,
   "id": "818874ac",
   "metadata": {},
   "outputs": [
    {
     "data": {
      "text/plain": [
       "-0.6175758828930583"
      ]
     },
     "execution_count": 20,
     "metadata": {},
     "output_type": "execute_result"
    }
   ],
   "source": [
    "# 预测用户1对python 的评分\n",
    "predictRating('user1','Python')"
   ]
  },
  {
   "cell_type": "code",
   "execution_count": 21,
   "id": "9b6c25eb",
   "metadata": {},
   "outputs": [],
   "source": [
    "# 找出所有的产品\n",
    "all_products = np.array([i[1] for i in result])"
   ]
  },
  {
   "cell_type": "code",
   "execution_count": 22,
   "id": "da5cdf2a",
   "metadata": {},
   "outputs": [],
   "source": [
    "# 找出所有产品的unique，去掉重复的\n",
    "all_products = np.unique(all_products)"
   ]
  },
  {
   "cell_type": "code",
   "execution_count": 23,
   "id": "5217e83f",
   "metadata": {},
   "outputs": [],
   "source": [
    "# 预测用户1对所有产品的评分\n",
    "prediction = []\n",
    "for i in all_products:\n",
    "    a = predictRating('user1',i)\n",
    "    prediction.append([i,a])"
   ]
  },
  {
   "cell_type": "code",
   "execution_count": 24,
   "id": "9b00bc5a",
   "metadata": {},
   "outputs": [],
   "source": [
    "# 排列一下\n",
    "prediction.sort(key=lambda x: x[1],reverse=True)"
   ]
  },
  {
   "cell_type": "code",
   "execution_count": 25,
   "id": "7479699d",
   "metadata": {},
   "outputs": [],
   "source": [
    "# 写成一个function\n",
    "def predict_all(user):\n",
    "    #user = str(user)\n",
    "    prediction = []\n",
    "    for i in all_products:\n",
    "        a = predictRating(user,i)\n",
    "        prediction.append([i,a])\n",
    "        prediction.sort(key=lambda x: x[1],reverse=True)\n",
    "    return prediction"
   ]
  },
  {
   "cell_type": "code",
   "execution_count": 29,
   "id": "9cef8c65",
   "metadata": {},
   "outputs": [],
   "source": [
    "all_users = np.unique(np.array([i[0] for i in result]))"
   ]
  },
  {
   "cell_type": "markdown",
   "id": "a0648755",
   "metadata": {},
   "source": [
    "## SVM with surprise"
   ]
  },
  {
   "cell_type": "code",
   "execution_count": 29,
   "id": "f6fb1ce2",
   "metadata": {},
   "outputs": [],
   "source": [
    "from surprise import SVD\n",
    "from surprise import Dataset\n",
    "from surprise.model_selection import cross_validate\n",
    "from surprise import Reader\n",
    "from surprise import NormalPredictor\n",
    "from surprise.model_selection import GridSearchCV\n",
    "from surprise.model_selection import train_test_split\n",
    "from surprise import accuracy"
   ]
  },
  {
   "cell_type": "code",
   "execution_count": 30,
   "id": "51fa6169",
   "metadata": {},
   "outputs": [],
   "source": [
    "# split the data into 0.9 and 0.1\n",
    "train = int(len(productsPerUser)*0.84)\n",
    "#test = int(len(productsPerUser)*0.84)"
   ]
  },
  {
   "cell_type": "code",
   "execution_count": 31,
   "id": "073117c0",
   "metadata": {},
   "outputs": [],
   "source": [
    "# split to train and valid\n",
    "all_user = [i for i in productsPerUser]\n",
    "train_user = all_user[:train]\n",
    "#test_user = all_user[train:test]\n",
    "valid_user = all_user[train:]"
   ]
  },
  {
   "cell_type": "code",
   "execution_count": 32,
   "id": "7e226e20",
   "metadata": {},
   "outputs": [],
   "source": [
    "# get the train data\n",
    "train_data = []\n",
    "for i in train_user:\n",
    "    for j in productsPerUser[i]:\n",
    "        train_data.append((i,j[0],j[1]))"
   ]
  },
  {
   "cell_type": "code",
   "execution_count": 33,
   "id": "8f9e7187",
   "metadata": {},
   "outputs": [],
   "source": [
    "# get the valid data\n",
    "valid_data = []\n",
    "for i in valid_user:\n",
    "    for j in productsPerUser[i]:\n",
    "        valid_data.append((i,j[0],j[1]))"
   ]
  },
  {
   "cell_type": "code",
   "execution_count": 34,
   "id": "f0582a51",
   "metadata": {},
   "outputs": [
    {
     "data": {
      "text/plain": [
       "(1676095, 183531)"
      ]
     },
     "execution_count": 34,
     "metadata": {},
     "output_type": "execute_result"
    }
   ],
   "source": [
    "len(train_data),len(valid_data)"
   ]
  },
  {
   "cell_type": "markdown",
   "id": "a4065832",
   "metadata": {},
   "source": [
    "# Not all training data user for training (edited)\n"
   ]
  },
  {
   "cell_type": "code",
   "execution_count": 45,
   "id": "74008353",
   "metadata": {},
   "outputs": [],
   "source": [
    "# full dataframe\n",
    "full_df = pd.DataFrame(result,columns = ['userID', 'itemID', 'rating'])"
   ]
  },
  {
   "cell_type": "code",
   "execution_count": 36,
   "id": "dfd00c8e",
   "metadata": {},
   "outputs": [],
   "source": [
    "# scale, from -1 to 1\n",
    "reader = Reader(rating_scale=(-1,1))"
   ]
  },
  {
   "cell_type": "code",
   "execution_count": 51,
   "id": "21c7ea70",
   "metadata": {},
   "outputs": [],
   "source": [
    "# transform the data so that surprise package can handle the data\n",
    "full_data = Dataset.load_from_df(full_df[['userID', 'itemID', 'rating']], reader)"
   ]
  },
  {
   "cell_type": "code",
   "execution_count": 52,
   "id": "74eed347",
   "metadata": {},
   "outputs": [],
   "source": [
    "# split the train data to train and test\n",
    "trainset, testset = train_test_split(full_data, test_size=.16,random_state=88)"
   ]
  },
  {
   "cell_type": "code",
   "execution_count": 53,
   "id": "ba9a28b7",
   "metadata": {},
   "outputs": [
    {
     "data": {
      "text/plain": [
       "<surprise.prediction_algorithms.matrix_factorization.SVD at 0x7fb950538ee0>"
      ]
     },
     "execution_count": 53,
     "metadata": {},
     "output_type": "execute_result"
    }
   ],
   "source": [
    "# define the svd function \n",
    "algo_svd = SVD()\n",
    "\n",
    "# Train the algorithm on the trainset\n",
    "algo_svd.fit(trainset)\n"
   ]
  },
  {
   "cell_type": "code",
   "execution_count": 57,
   "id": "d69d67d7",
   "metadata": {},
   "outputs": [
    {
     "name": "stdout",
     "output_type": "stream",
     "text": [
      "RMSE: 0.7268\n"
     ]
    },
    {
     "data": {
      "text/plain": [
       "0.726806252620528"
      ]
     },
     "execution_count": 57,
     "metadata": {},
     "output_type": "execute_result"
    }
   ],
   "source": [
    "#predict ratings for the testset\n",
    "predictions_svd = algo_svd.test(testset)\n",
    "# Then compute RMSE\n",
    "accuracy.rmse(predictions_svd)"
   ]
  },
  {
   "cell_type": "code",
   "execution_count": 58,
   "id": "efb88870",
   "metadata": {},
   "outputs": [],
   "source": [
    "def precision_recall_at_k(predictions, k=10, threshold=3.5):\n",
    "    \"\"\"Return precision and recall at k metrics for each user\"\"\"\n",
    "\n",
    "    # First map the predictions to each user.\n",
    "    user_est_true = defaultdict(list)\n",
    "    for uid, _, true_r, est, _ in predictions:\n",
    "        user_est_true[uid].append((est, true_r))\n",
    "\n",
    "    precisions = dict()\n",
    "    recalls = dict()\n",
    "    for uid, user_ratings in user_est_true.items():\n",
    "\n",
    "        # Sort user ratings by estimated value\n",
    "        user_ratings.sort(key=lambda x: x[0], reverse=True)\n",
    "\n",
    "        # Number of relevant items\n",
    "        n_rel = sum((true_r >= threshold) for (_, true_r) in user_ratings)\n",
    "\n",
    "        # Number of recommended items in top k\n",
    "        n_rec_k = sum((est >= threshold) for (est, _) in user_ratings[:k])\n",
    "\n",
    "        # Number of relevant and recommended items in top k\n",
    "        n_rel_and_rec_k = sum(((true_r >= threshold) and (est >= threshold))\n",
    "                              for (est, true_r) in user_ratings[:k])\n",
    "\n",
    "        # Precision@K: Proportion of recommended items that are relevant\n",
    "        # When n_rec_k is 0, Precision is undefined. We here set it to 0.\n",
    "\n",
    "        precisions[uid] = n_rel_and_rec_k / n_rec_k if n_rec_k != 0 else 0\n",
    "\n",
    "        # Recall@K: Proportion of relevant items that are recommended\n",
    "        # When n_rel is 0, Recall is undefined. We here set it to 0.\n",
    "\n",
    "        recalls[uid] = n_rel_and_rec_k / n_rel if n_rel != 0 else 0\n",
    "\n",
    "    return precisions, recalls"
   ]
  },
  {
   "cell_type": "code",
   "execution_count": 59,
   "id": "f089899d",
   "metadata": {},
   "outputs": [],
   "source": [
    "#predictions_svd = algo_svd.test(valid_data)"
   ]
  },
  {
   "cell_type": "code",
   "execution_count": 62,
   "id": "552e2480",
   "metadata": {},
   "outputs": [
    {
     "name": "stdout",
     "output_type": "stream",
     "text": [
      "average precision@5 is:  0.8059923549692676\n",
      "average recall@5 is:  0.4190675363640556\n",
      "average f1 score @5 is  0.39125105556502565\n"
     ]
    }
   ],
   "source": [
    "precisions, recalls = precision_recall_at_k(predictions_svd, k=5, threshold=0)\n",
    "\n",
    "print('average precision@5 is: ', sum(prec for prec in precisions.values()) / len(precisions))\n",
    "print('average recall@5 is: ',sum(rec for rec in recalls.values()) / len(recalls))\n",
    "print('average f1 score @5 is ', sum(prec*recall for prec, recall in zip(precisions.values(),recalls.values()))/len(precisions))"
   ]
  },
  {
   "cell_type": "markdown",
   "id": "ae737d84",
   "metadata": {},
   "source": [
    "## BaselineOnly"
   ]
  },
  {
   "cell_type": "code",
   "execution_count": 63,
   "id": "3734ad5d",
   "metadata": {},
   "outputs": [],
   "source": [
    "from surprise import BaselineOnly # algorithm that is used to establish minimum expected performance on a dataset"
   ]
  },
  {
   "cell_type": "code",
   "execution_count": 64,
   "id": "5ffa94a2",
   "metadata": {},
   "outputs": [],
   "source": [
    "bsl_options = {'method': 'als',\n",
    "               'n_epochs': 5,\n",
    "               'reg_u': 12,\n",
    "               'reg_i': 5\n",
    "               }"
   ]
  },
  {
   "cell_type": "code",
   "execution_count": 65,
   "id": "5168d40c",
   "metadata": {},
   "outputs": [],
   "source": [
    "algo_base = BaselineOnly(bsl_options=bsl_options)"
   ]
  },
  {
   "cell_type": "code",
   "execution_count": 66,
   "id": "9bd080d0",
   "metadata": {},
   "outputs": [
    {
     "name": "stdout",
     "output_type": "stream",
     "text": [
      "Estimating biases using als...\n",
      "RMSE: 0.7492\n"
     ]
    },
    {
     "data": {
      "text/plain": [
       "0.7491632526967469"
      ]
     },
     "execution_count": 66,
     "metadata": {},
     "output_type": "execute_result"
    }
   ],
   "source": [
    "algo_base.fit(trainset)\n",
    "predictions_base = algo_base.test(testset)\n",
    "\n",
    "# Then compute RMSE\n",
    "accuracy.rmse(predictions_base)"
   ]
  },
  {
   "cell_type": "code",
   "execution_count": 67,
   "id": "2d95a9f6",
   "metadata": {},
   "outputs": [],
   "source": [
    "predictions_base = algo_base.test(testset)"
   ]
  },
  {
   "cell_type": "code",
   "execution_count": 68,
   "id": "581cad93",
   "metadata": {},
   "outputs": [
    {
     "name": "stdout",
     "output_type": "stream",
     "text": [
      "average precision@5 is:  0.6743817225069035\n",
      "average recall@5 is:  0.6850647036044005\n",
      "average f1 score @5 is  0.5956236436554049\n"
     ]
    }
   ],
   "source": [
    "precisions, recalls = precision_recall_at_k(predictions_base, k=5, threshold=0)\n",
    "\n",
    "print('average precision@5 is: ', sum(prec for prec in precisions.values()) / len(precisions))\n",
    "print('average recall@5 is: ',sum(rec for rec in recalls.values()) / len(recalls))\n",
    "print('average f1 score @5 is ', sum(prec*recall for prec, recall in zip(precisions.values(),recalls.values()))/len(precisions))"
   ]
  },
  {
   "cell_type": "markdown",
   "id": "48e02273",
   "metadata": {},
   "source": [
    "### using sgd"
   ]
  },
  {
   "cell_type": "code",
   "execution_count": 69,
   "id": "1f797615",
   "metadata": {},
   "outputs": [],
   "source": [
    "bsl_options = {'method': 'sgd',\n",
    "               'learning_rate': .00005,\n",
    "               }\n",
    "algo_base2 = BaselineOnly(bsl_options=bsl_options)"
   ]
  },
  {
   "cell_type": "code",
   "execution_count": 70,
   "id": "ff692ddc",
   "metadata": {},
   "outputs": [
    {
     "name": "stdout",
     "output_type": "stream",
     "text": [
      "Estimating biases using sgd...\n",
      "RMSE: 0.8318\n"
     ]
    },
    {
     "data": {
      "text/plain": [
       "0.831791842890089"
      ]
     },
     "execution_count": 70,
     "metadata": {},
     "output_type": "execute_result"
    }
   ],
   "source": [
    "algo_base2.fit(trainset)\n",
    "predictions_base2 = algo_base2.test(testset)\n",
    "\n",
    "# Then compute RMSE\n",
    "accuracy.rmse(predictions_base2)"
   ]
  },
  {
   "cell_type": "code",
   "execution_count": 71,
   "id": "8e8ae38e",
   "metadata": {},
   "outputs": [
    {
     "name": "stdout",
     "output_type": "stream",
     "text": [
      "average precision@5 is:  0.70792193522355\n",
      "average recall@5 is:  0.7510151185409956\n",
      "average f1 score @5 is  0.6269373318534507\n"
     ]
    }
   ],
   "source": [
    "predictions_base2 = algo_base2.test(testset)\n",
    "precisions, recalls = precision_recall_at_k(predictions_base2, k=5, threshold=0)\n",
    "\n",
    "print('average precision@5 is: ', sum(prec for prec in precisions.values()) / len(precisions))\n",
    "print('average recall@5 is: ',sum(rec for rec in recalls.values()) / len(recalls))\n",
    "print('average f1 score @5 is ', sum(prec*recall for prec, recall in zip(precisions.values(),recalls.values()))/len(precisions))"
   ]
  },
  {
   "cell_type": "markdown",
   "id": "876e7825",
   "metadata": {},
   "source": [
    "## SlopeOne"
   ]
  },
  {
   "cell_type": "code",
   "execution_count": 72,
   "id": "501d151e",
   "metadata": {},
   "outputs": [],
   "source": [
    "from surprise import SlopeOne"
   ]
  },
  {
   "cell_type": "code",
   "execution_count": 73,
   "id": "55f1d56d",
   "metadata": {},
   "outputs": [],
   "source": [
    "algo_slope = SlopeOne()"
   ]
  },
  {
   "cell_type": "code",
   "execution_count": 74,
   "id": "ccf79fc3",
   "metadata": {},
   "outputs": [
    {
     "name": "stderr",
     "output_type": "stream",
     "text": [
      "/tmp/ipykernel_809/1804627863.py:1: DeprecationWarning: `np.int` is a deprecated alias for the builtin `int`. To silence this warning, use `int` by itself. Doing this will not modify any behavior and is safe. When replacing `np.int`, you may wish to use e.g. `np.int64` or `np.int32` to specify the precision. If you wish to review your current use, check the release note link for additional information.\n",
      "Deprecated in NumPy 1.20; for more details and guidance: https://numpy.org/devdocs/release/1.20.0-notes.html#deprecations\n",
      "  algo_slope.fit(trainset)\n"
     ]
    },
    {
     "name": "stdout",
     "output_type": "stream",
     "text": [
      "RMSE: 0.7383\n"
     ]
    },
    {
     "data": {
      "text/plain": [
       "0.7383110992621169"
      ]
     },
     "execution_count": 74,
     "metadata": {},
     "output_type": "execute_result"
    }
   ],
   "source": [
    "algo_slope.fit(trainset)\n",
    "predictions_slope = algo_slope.test(testset)\n",
    "\n",
    "# Then compute RMSE\n",
    "accuracy.rmse(predictions_slope)"
   ]
  },
  {
   "cell_type": "code",
   "execution_count": 75,
   "id": "6e8f27b4",
   "metadata": {},
   "outputs": [
    {
     "name": "stdout",
     "output_type": "stream",
     "text": [
      "average precision@5 is:  0.6512998635110863\n",
      "average recall@5 is:  0.6594180846800406\n",
      "average f1 score @5 is  0.5765770018549038\n"
     ]
    }
   ],
   "source": [
    "predictions_slope = algo_slope.test(testset)\n",
    "precisions, recalls = precision_recall_at_k(predictions_slope, k=5, threshold=0)\n",
    "\n",
    "print('average precision@5 is: ', sum(prec for prec in precisions.values()) / len(precisions))\n",
    "print('average recall@5 is: ',sum(rec for rec in recalls.values()) / len(recalls))\n",
    "print('average f1 score @5 is ', sum(prec*recall for prec, recall in zip(precisions.values(),recalls.values()))/len(precisions))"
   ]
  },
  {
   "cell_type": "markdown",
   "id": "ea6fcaae",
   "metadata": {},
   "source": [
    "## Coslustering"
   ]
  },
  {
   "cell_type": "code",
   "execution_count": 76,
   "id": "2ce3a9e7",
   "metadata": {},
   "outputs": [],
   "source": [
    "from surprise import CoClustering"
   ]
  },
  {
   "cell_type": "code",
   "execution_count": 77,
   "id": "c5822350",
   "metadata": {},
   "outputs": [],
   "source": [
    "algo_co = CoClustering()"
   ]
  },
  {
   "cell_type": "code",
   "execution_count": 78,
   "id": "a296a4af",
   "metadata": {},
   "outputs": [
    {
     "name": "stderr",
     "output_type": "stream",
     "text": [
      "/tmp/ipykernel_809/2540439433.py:1: DeprecationWarning: `np.int` is a deprecated alias for the builtin `int`. To silence this warning, use `int` by itself. Doing this will not modify any behavior and is safe. When replacing `np.int`, you may wish to use e.g. `np.int64` or `np.int32` to specify the precision. If you wish to review your current use, check the release note link for additional information.\n",
      "Deprecated in NumPy 1.20; for more details and guidance: https://numpy.org/devdocs/release/1.20.0-notes.html#deprecations\n",
      "  algo_co.fit(trainset)\n"
     ]
    },
    {
     "name": "stdout",
     "output_type": "stream",
     "text": [
      "RMSE: 0.7558\n"
     ]
    },
    {
     "data": {
      "text/plain": [
       "0.755835196977537"
      ]
     },
     "execution_count": 78,
     "metadata": {},
     "output_type": "execute_result"
    }
   ],
   "source": [
    "algo_co.fit(trainset)\n",
    "predictions_co = algo_co.test(testset)\n",
    "\n",
    "# Then compute RMSE\n",
    "accuracy.rmse(predictions_co)"
   ]
  },
  {
   "cell_type": "code",
   "execution_count": 79,
   "id": "3ec68f42",
   "metadata": {},
   "outputs": [
    {
     "name": "stdout",
     "output_type": "stream",
     "text": [
      "average precision@5 is:  0.7900327287263317\n",
      "average recall@5 is:  0.4093592076798645\n",
      "average f1 score @5 is  0.3826315906044123\n"
     ]
    }
   ],
   "source": [
    "predictions_co = algo_co.test(valid_data)\n",
    "precisions, recalls = precision_recall_at_k(predictions_co, k=5, threshold=0)\n",
    "\n",
    "print('average precision@5 is: ', sum(prec for prec in precisions.values()) / len(precisions))\n",
    "print('average recall@5 is: ',sum(rec for rec in recalls.values()) / len(recalls))\n",
    "print('average f1 score @5 is ', sum(prec*recall for prec, recall in zip(precisions.values(),recalls.values()))/len(precisions))"
   ]
  },
  {
   "cell_type": "markdown",
   "id": "2ee95799",
   "metadata": {},
   "source": [
    "## weighted"
   ]
  },
  {
   "cell_type": "code",
   "execution_count": 80,
   "id": "24b245d2",
   "metadata": {},
   "outputs": [],
   "source": [
    "import seaborn as sns\n",
    "import matplotlib.pyplot as plt"
   ]
  },
  {
   "cell_type": "code",
   "execution_count": 81,
   "id": "56225301",
   "metadata": {},
   "outputs": [],
   "source": [
    "def precision_recall_at_k_weighted(pred1,pred2,weight1, k=10, threshold=3.5):\n",
    "    \"\"\"Return precision and recall at k metrics for each user\"\"\"\n",
    "    pred = [(i.uid,i.r_ui,weight1*i.est+(1-weight1)*j.est) for i,j in zip(pred1,pred2)]\n",
    "    # First map the predictions to each user.\n",
    "    user_est_true = defaultdict(list)\n",
    "    for i in pred:\n",
    "        uid,true_r,est = i[0],i[1],i[2]\n",
    "        user_est_true[uid].append((est, true_r))\n",
    "\n",
    "    precisions = dict()\n",
    "    recalls = dict()\n",
    "    for uid, user_ratings in user_est_true.items():\n",
    "\n",
    "        # Sort user ratings by estimated value\n",
    "        user_ratings.sort(key=lambda x: x[0], reverse=True)\n",
    "\n",
    "        # Number of relevant items\n",
    "        n_rel = sum((true_r >= threshold) for (_, true_r) in user_ratings)\n",
    "\n",
    "        # Number of recommended items in top k\n",
    "        n_rec_k = sum((est >= threshold) for (est, _) in user_ratings[:k])\n",
    "\n",
    "        # Number of relevant and recommended items in top k\n",
    "        n_rel_and_rec_k = sum(((true_r >= threshold) and (est >= threshold))\n",
    "                              for (est, true_r) in user_ratings[:k])\n",
    "\n",
    "        # Precision@K: Proportion of recommended items that are relevant\n",
    "        # When n_rec_k is 0, Precision is undefined. We here set it to 0.\n",
    "\n",
    "        precisions[uid] = n_rel_and_rec_k / n_rec_k if n_rec_k != 0 else 0\n",
    "\n",
    "        # Recall@K: Proportion of relevant items that are recommended\n",
    "        # When n_rel is 0, Recall is undefined. We here set it to 0.\n",
    "\n",
    "        recalls[uid] = n_rel_and_rec_k / n_rel if n_rel != 0 else 0\n",
    "        \n",
    "    a = sum(prec for prec in precisions.values()) / len(precisions)\n",
    "    b = sum(rec for rec in recalls.values()) / len(recalls)\n",
    "    c = sum(prec*recall for prec, recall in zip(precisions.values(),recalls.values()))/len(precisions)\n",
    "    print('average precision@5 is: ', a)\n",
    "    print('average recall@5 is: ',b)\n",
    "    print('average f1 score @5 is ', c)\n",
    "    return a, b, c"
   ]
  },
  {
   "cell_type": "code",
   "execution_count": 82,
   "id": "2151941e",
   "metadata": {},
   "outputs": [
    {
     "name": "stdout",
     "output_type": "stream",
     "text": [
      "average precision@5 is:  0.6583743908980089\n",
      "average recall@5 is:  0.6973151711444452\n",
      "average f1 score @5 is  0.6173203543767168\n"
     ]
    },
    {
     "data": {
      "text/plain": [
       "(0.6583743908980089, 0.6973151711444452, 0.6173203543767168)"
      ]
     },
     "execution_count": 82,
     "metadata": {},
     "output_type": "execute_result"
    }
   ],
   "source": [
    "# combine baseline model and coclustering model, with baseline 0.8 and coclustering weighted 0.2\n",
    "precision_recall_at_k_weighted(predictions_base,predictions_co,0.8, k=10, threshold=0)"
   ]
  },
  {
   "cell_type": "code",
   "execution_count": 83,
   "id": "37373772",
   "metadata": {},
   "outputs": [],
   "source": [
    "# select model from:\n",
    "#predictions_base,predictions_base2,predictions_slope,predictions_co,predictions_svd\n",
    "def two_weighted_model(model1,model2):\n",
    "    weight = []\n",
    "    for i in [i/10 for i in range(1,10)]:\n",
    "        print('when weight is: ',i)\n",
    "        d,e,f = precision_recall_at_k_weighted(model1,model2,i, k=10, threshold=0)\n",
    "        weight.append([i,d,e,f])\n",
    "    newdata = []\n",
    "    for i in weight:\n",
    "        newdata.append([i[0],i[1],'precision'])\n",
    "    for i in weight:\n",
    "        newdata.append([i[0],i[2],'recall'])\n",
    "    for i in weight:\n",
    "        newdata.append([i[0],i[3],'f1'])        \n",
    "    df = pd.DataFrame(newdata,columns=['weight','value','type'])\n",
    "    sns.lineplot(data=df,x='weight',y='value',hue='type')\n",
    "    plt.show()\n",
    "        "
   ]
  },
  {
   "cell_type": "code",
   "execution_count": 85,
   "id": "28ccdf75",
   "metadata": {},
   "outputs": [
    {
     "name": "stdout",
     "output_type": "stream",
     "text": [
      "when weight is:  0.1\n",
      "average precision@5 is:  0.6327570614920258\n",
      "average recall@5 is:  0.6362722509187523\n",
      "average f1 score @5 is  0.5419572613253337\n",
      "when weight is:  0.2\n",
      "average precision@5 is:  0.6381686030655087\n",
      "average recall@5 is:  0.6473267143056887\n",
      "average f1 score @5 is  0.5511481346685915\n",
      "when weight is:  0.3\n",
      "average precision@5 is:  0.6447547284950614\n",
      "average recall@5 is:  0.6604242782140338\n",
      "average f1 score @5 is  0.562333095904206\n",
      "when weight is:  0.4\n",
      "average precision@5 is:  0.6521795794014409\n",
      "average recall@5 is:  0.6751274333580163\n",
      "average f1 score @5 is  0.5749144276409776\n",
      "when weight is:  0.5\n",
      "average precision@5 is:  0.6602098049509962\n",
      "average recall@5 is:  0.6915132240103431\n",
      "average f1 score @5 is  0.5889384358934109\n",
      "when weight is:  0.6\n",
      "average precision@5 is:  0.6686739474808588\n",
      "average recall@5 is:  0.7102623135122247\n",
      "average f1 score @5 is  0.6055006145030137\n",
      "when weight is:  0.7\n",
      "average precision@5 is:  0.6774695221731253\n",
      "average recall@5 is:  0.7280892853662584\n",
      "average f1 score @5 is  0.6220238223829953\n",
      "when weight is:  0.8\n",
      "average precision@5 is:  0.6852089015254753\n",
      "average recall@5 is:  0.7437121013429189\n",
      "average f1 score @5 is  0.6369528578007633\n",
      "when weight is:  0.9\n",
      "average precision@5 is:  0.6897564217076592\n",
      "average recall@5 is:  0.7530573998334058\n",
      "average f1 score @5 is  0.6458720527409154\n"
     ]
    },
    {
     "data": {
      "image/png": "[encoded data removed]",
      "text/plain": [
       "<Figure size 432x288 with 1 Axes>"
      ]
     },
     "metadata": {
      "needs_background": "light"
     },
     "output_type": "display_data"
    }
   ],
   "source": [
    "# example\n",
    "two_weighted_model(predictions_base2,predictions_svd)"
   ]
  },
  {
   "cell_type": "code",
   "execution_count": null,
   "id": "94d91e70",
   "metadata": {},
   "outputs": [],
   "source": []
  }
 ],
 "metadata": {
  "kernelspec": {
   "display_name": "Python 3 (ipykernel)",
   "language": "python",
   "name": "python3"
  },
  "language_info": {
   "codemirror_mode": {
    "name": "ipython",
    "version": 3
   },
   "file_extension": ".py",
   "mimetype": "text/x-python",
   "name": "python",
   "nbconvert_exporter": "python",
   "pygments_lexer": "ipython3",
   "version": "3.9.5"
  }
 },
 "nbformat": 4,
 "nbformat_minor": 5
}
