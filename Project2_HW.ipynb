{
 "cells": [
  {
   "cell_type": "code",
   "execution_count": 1,
   "id": "90f9e389",
   "metadata": {},
   "outputs": [],
   "source": [
    "import pandas as pd\n",
    "from matplotlib.pyplot import figure\n",
    "import itertools\n",
    "from tqdm import tqdm\n",
    "from collections import defaultdict\n",
    "import numpy as np\n",
    "from random import shuffle\n",
    "from surprise.model_selection import KFold"
   ]
  },
  {
   "cell_type": "code",
   "execution_count": 3,
   "id": "403d7d1a",
   "metadata": {},
   "outputs": [],
   "source": [
    "def get_data(filename=  'data_pos_neg_neu.txt'):\n",
    "    '''\n",
    "    read the list of dict for postive,negative,neutral feedback\n",
    "    '''\n",
    "    data = []\n",
    "    with open(filename) as f:\n",
    "        for i, line in enumerate(f):\n",
    "            try:\n",
    "                d = eval(line)\n",
    "            except:\n",
    "                print(\"*****Error*****\")\n",
    "                print(i,line)\n",
    "                print(\"*********END of ERROR *******\")\n",
    "                break\n",
    "            else:\n",
    "                data.append(d)\n",
    "    return data"
   ]
  },
  {
   "cell_type": "code",
   "execution_count": 4,
   "id": "cbf250c2",
   "metadata": {},
   "outputs": [],
   "source": [
    "data = get_data()"
   ]
  },
  {
   "cell_type": "code",
   "execution_count": 5,
   "id": "a2405d36",
   "metadata": {},
   "outputs": [],
   "source": [
    "result = []\n",
    "for j in range(len(data)):    \n",
    "    for i in data[j]['pos']:\n",
    "        result.append(('user'+str(j),i,1))\n",
    "    for i in data[j]['neg']:\n",
    "        result.append(('user'+str(j),i,-1))\n",
    "    for i in data[j]['neu']:\n",
    "        result.append(('user'+str(j),i,0))"
   ]
  },
  {
   "cell_type": "code",
   "execution_count": 6,
   "id": "7af0af03",
   "metadata": {},
   "outputs": [],
   "source": [
    "shuffle(result) # 打乱数据"
   ]
  },
  {
   "cell_type": "code",
   "execution_count": 7,
   "id": "681b6362",
   "metadata": {},
   "outputs": [
    {
     "name": "stderr",
     "output_type": "stream",
     "text": [
      "100%|████████████████████████████| 1859626/1859626 [00:01<00:00, 1280887.57it/s]\n"
     ]
    }
   ],
   "source": [
    "# 用dict表示\n",
    "c = []\n",
    "for line in tqdm(result):\n",
    "    d = dict(zip(['user','product','rating'],[]))\n",
    "    d['user'] = line[0]\n",
    "    d['product'] = line[1]\n",
    "    d['rating'] = line[2]\n",
    "    c.append(d)"
   ]
  },
  {
   "cell_type": "code",
   "execution_count": 8,
   "id": "114fe189",
   "metadata": {},
   "outputs": [],
   "source": [
    "# 抄的老师的workbook4\n",
    "productsPerUser = defaultdict(set)\n",
    "itemsPerUser = defaultdict(set)\n",
    "usersPerItem = defaultdict(set)\n",
    "ratingDict = {}"
   ]
  },
  {
   "cell_type": "code",
   "execution_count": 9,
   "id": "a18adaa7",
   "metadata": {},
   "outputs": [],
   "source": [
    "# 把一位用户对应的所有产品整理出来\n",
    "for d in c:\n",
    "    user,item,rating = d['user'],d['product'],d['rating']\n",
    "    productsPerUser[user].add((item,rating))\n",
    "    itemsPerUser[user].add(item)\n",
    "    usersPerItem[item].add(user)\n",
    "    ratingDict[(user,item)] = rating"
   ]
  },
  {
   "cell_type": "code",
   "execution_count": 10,
   "id": "14d894e0",
   "metadata": {},
   "outputs": [],
   "source": [
    "# 计算user average 和 item average\n",
    "userAverages = {}\n",
    "itemAverages = {}\n",
    "\n",
    "for u in itemsPerUser:\n",
    "    rs = [ratingDict[(u,i)] for i in itemsPerUser[u]]\n",
    "    userAverages[u] = sum(rs) / len(rs)\n",
    "    \n",
    "for i in usersPerItem:\n",
    "    rs = [ratingDict[(u,i)] for u in usersPerItem[i]]\n",
    "    itemAverages[i] = sum(rs) / len(rs)"
   ]
  },
  {
   "cell_type": "code",
   "execution_count": 11,
   "id": "e45bf681",
   "metadata": {},
   "outputs": [
    {
     "name": "stderr",
     "output_type": "stream",
     "text": [
      "100%|█████████████████████████████████| 83384/83384 [00:00<00:00, 195443.56it/s]\n"
     ]
    }
   ],
   "source": [
    "# 查看一共有多少pos，neg，neu\n",
    "pos = 0\n",
    "neg = 0\n",
    "neu = 0\n",
    "for i in tqdm([i for i in productsPerUser]):\n",
    "    for j in productsPerUser[i]:\n",
    "        if j[1] == 1:\n",
    "            pos += 1\n",
    "        elif j[1] == -1:\n",
    "            neg += 1\n",
    "        else:\n",
    "            neu += 1"
   ]
  },
  {
   "cell_type": "code",
   "execution_count": 12,
   "id": "56e9970e",
   "metadata": {},
   "outputs": [
    {
     "data": {
      "text/plain": [
       "(859773, 572505, 427348)"
      ]
     },
     "execution_count": 12,
     "metadata": {},
     "output_type": "execute_result"
    }
   ],
   "source": [
    "pos,neg,neu"
   ]
  },
  {
   "cell_type": "code",
   "execution_count": 13,
   "id": "34f43280",
   "metadata": {},
   "outputs": [],
   "source": [
    "# similarity functions\n",
    "def Jaccard(s1, s2):\n",
    "    numer = len(s1.intersection(s2))\n",
    "    denom = len(s1.union(s2))\n",
    "    if denom == 0:\n",
    "        return 0\n",
    "    return numer / denom\n",
    "\n",
    "def CosineSet(s1, s2):\n",
    "    # Not a proper implementation, operates on sets so correct for interactions only\n",
    "    numer = len(s1.intersection(s2))\n",
    "    denom = math.sqrt(len(s1)) * math.sqrt(len(s2))\n",
    "    if denom == 0:\n",
    "        return 0\n",
    "    return numer / denom\n",
    "\n",
    "def Cosine(i1, i2):\n",
    "    # Between two items\n",
    "    inter = usersPerItem[i1].intersection(usersPerItem[i2])\n",
    "    numer = 0\n",
    "    denom1 = 0\n",
    "    denom2 = 0\n",
    "    for u in inter:\n",
    "        numer += ratingDict[(u,i1)]*ratingDict[(u,i2)]\n",
    "    for u in usersPerItem[i1]:\n",
    "        denom1 += ratingDict[(u,i1)]**2\n",
    "    for u in usersPerItem[i2]:\n",
    "        denom2 += ratingDict[(u,i2)]**2\n",
    "    denom = math.sqrt(denom1) * math.sqrt(denom2)\n",
    "    if denom == 0: return 0\n",
    "    return numer / denom\n"
   ]
  },
  {
   "cell_type": "code",
   "execution_count": 14,
   "id": "3bc9e1bb",
   "metadata": {},
   "outputs": [],
   "source": [
    "# define the similarity function\n",
    "def mostSimilar(i, N):\n",
    "    similarities = []\n",
    "    items = itemsPerUser[i]\n",
    "    for i2 in itemsPerUser:\n",
    "        if i2 == i: continue\n",
    "        sim = Jaccard(items, itemsPerUser[i2])\n",
    "        #sim = Pearson(i, i2) # Could use alternate similarity metrics straightforwardly\n",
    "        similarities.append((sim,i2))\n",
    "    similarities.sort(reverse=True)\n",
    "    return similarities[:N]"
   ]
  },
  {
   "cell_type": "code",
   "execution_count": 15,
   "id": "fcff90f9",
   "metadata": {},
   "outputs": [
    {
     "data": {
      "text/plain": [
       "[(0.6190476190476191, 'user16778'),\n",
       " (0.5909090909090909, 'user5807'),\n",
       " (0.5652173913043478, 'user22033'),\n",
       " (0.5517241379310345, 'user82333'),\n",
       " (0.5454545454545454, 'user19530'),\n",
       " (0.5357142857142857, 'user76767'),\n",
       " (0.5357142857142857, 'user70477'),\n",
       " (0.5217391304347826, 'user29118'),\n",
       " (0.52, 'user80000'),\n",
       " (0.52, 'user38407')]"
      ]
     },
     "execution_count": 15,
     "metadata": {},
     "output_type": "execute_result"
    }
   ],
   "source": [
    "# find top 10 similar users with user10\n",
    "mostSimilar('user2',10)"
   ]
  },
  {
   "cell_type": "code",
   "execution_count": 16,
   "id": "98fa8b16",
   "metadata": {},
   "outputs": [],
   "source": [
    "# 所有的rating mean\n",
    "ratingMean = sum([d[2] for d in result])/len(result)"
   ]
  },
  {
   "cell_type": "code",
   "execution_count": 17,
   "id": "c173bce8",
   "metadata": {},
   "outputs": [
    {
     "data": {
      "text/plain": [
       "0.15447622263831545"
      ]
     },
     "execution_count": 17,
     "metadata": {},
     "output_type": "execute_result"
    }
   ],
   "source": [
    "\n",
    "ratingMean"
   ]
  },
  {
   "cell_type": "code",
   "execution_count": 18,
   "id": "c7ca74d3",
   "metadata": {},
   "outputs": [],
   "source": [
    "# 老师的代码\n",
    "reviewsPerUser = defaultdict(list)\n",
    "reviewsPerItem = defaultdict(list)"
   ]
  },
  {
   "cell_type": "code",
   "execution_count": 19,
   "id": "323e58b0",
   "metadata": {},
   "outputs": [],
   "source": [
    "# 老师的代码\n",
    "for d in c:\n",
    "    user,item = d['user'], d['product']\n",
    "    reviewsPerUser[user].append(d)\n",
    "    reviewsPerItem[item].append(d)"
   ]
  },
  {
   "cell_type": "code",
   "execution_count": 20,
   "id": "05e53e39",
   "metadata": {},
   "outputs": [],
   "source": [
    "# 老师的代码\n",
    "def predictRating(user,item):\n",
    "    ratings = []\n",
    "    similarities = []\n",
    "    for d in reviewsPerUser[user]:\n",
    "        i2 = d['product']\n",
    "        if i2 == item: continue\n",
    "        ratings.append(d['rating'] - itemAverages[i2])\n",
    "        similarities.append(Jaccard(usersPerItem[item],usersPerItem[i2]))\n",
    "    if (sum(similarities) > 0):\n",
    "        weightedRatings = [(x*y) for x,y in zip(ratings,similarities)]\n",
    "        return itemAverages[item] + sum(weightedRatings) / sum(similarities)\n",
    "    else:\n",
    "        # User hasn't rated any similar items\n",
    "        return ratingMean"
   ]
  },
  {
   "cell_type": "code",
   "execution_count": 21,
   "id": "01f4b541",
   "metadata": {},
   "outputs": [
    {
     "data": {
      "text/plain": [
       "-0.6175758828930579"
      ]
     },
     "execution_count": 21,
     "metadata": {},
     "output_type": "execute_result"
    }
   ],
   "source": [
    "# 预测用户1对python 的评分\n",
    "predictRating('user1','Python')"
   ]
  },
  {
   "cell_type": "code",
   "execution_count": 22,
   "id": "d6899fb5",
   "metadata": {},
   "outputs": [],
   "source": [
    "# 找出所有的产品\n",
    "all_products = np.array([i[1] for i in result])"
   ]
  },
  {
   "cell_type": "code",
   "execution_count": 23,
   "id": "7f35ae61",
   "metadata": {},
   "outputs": [],
   "source": [
    "# 找出所有产品的unique，去掉重复的\n",
    "all_products = np.unique(all_products)"
   ]
  },
  {
   "cell_type": "code",
   "execution_count": 24,
   "id": "e11f186e",
   "metadata": {},
   "outputs": [],
   "source": [
    "# 预测用户1对所有产品的评分\n",
    "prediction = []\n",
    "for i in all_products:\n",
    "    a = predictRating('user1',i)\n",
    "    prediction.append([i,a])"
   ]
  },
  {
   "cell_type": "code",
   "execution_count": 25,
   "id": "9a7004dd",
   "metadata": {},
   "outputs": [],
   "source": [
    "# 排列一下\n",
    "prediction.sort(key=lambda x: x[1],reverse=True)"
   ]
  },
  {
   "cell_type": "code",
   "execution_count": 26,
   "id": "67be7eb9",
   "metadata": {},
   "outputs": [
    {
     "data": {
      "text/plain": [
       "[['Visual Studio Code', -0.35749547504777124],\n",
       " ['Git', -0.43826036140278235],\n",
       " ['Docker', -0.5022289201799928],\n",
       " ['.NET Core / .NET 5', -0.5134162228895682],\n",
       " ['Neovim', -0.5277036525390558],\n",
       " ['ASP.NET Core', -0.5651410661117948],\n",
       " ['Python', -0.6175758828930579],\n",
       " ['PostgreSQL', -0.6400188885900393],\n",
       " ['IntelliJ', -0.64218004096276],\n",
       " ['TypeScript', -0.645872754210213],\n",
       " ['Vim', -0.6631877697668532],\n",
       " ['Rider', -0.6659900318114015],\n",
       " ['JavaScript', -0.6825125779383301],\n",
       " ['Clojure', -0.6964279214497755],\n",
       " ['C#', -0.697910119070307],\n",
       " ['React.js', -0.7010166259579661],\n",
       " ['Visual Studio', -0.7048208683180195],\n",
       " ['NumPy', -0.7108500499242555],\n",
       " ['Emacs', -0.7173477371575965],\n",
       " ['Pandas', -0.7180276587021757],\n",
       " ['AWS', -0.7290812795055218],\n",
       " ['SQL', -0.7349365502351376],\n",
       " ['IPython/Jupyter', -0.7489457284596933],\n",
       " ['HTML/CSS', -0.751913745237541],\n",
       " ['Redis', -0.7542616957693993],\n",
       " ['Rust', -0.7599665424975555],\n",
       " ['Yarn', -0.7642908799925527],\n",
       " ['Node.js', -0.7710178695612085],\n",
       " ['Notepad++', -0.780724485557967],\n",
       " ['Flutter', -0.7916165869083697],\n",
       " ['Webstorm', -0.8025363291686304],\n",
       " ['PyCharm', -0.8071450624709245],\n",
       " ['Kubernetes', -0.8093698274265203],\n",
       " ['Keras', -0.8125604239316644],\n",
       " ['Express', -0.8139517063983497],\n",
       " ['Vue.js', -0.8198269888989196],\n",
       " ['Microsoft Azure', -0.8240347546619049],\n",
       " ['Terraform', -0.8414143216748123],\n",
       " ['Torch/PyTorch', -0.8423080320071586],\n",
       " ['Microsoft SQL Server', -0.8463982225149311],\n",
       " ['FastAPI', -0.8466121698595264],\n",
       " ['Julia', -0.8535731013361483],\n",
       " ['MongoDB', -0.8546312110688304],\n",
       " ['Dart', -0.8555557080296038],\n",
       " ['Google Cloud Platform', -0.8697329029451115],\n",
       " ['Swift', -0.870498787132503],\n",
       " ['Angular', -0.8740222013348286],\n",
       " ['Spring', -0.877292228695192],\n",
       " ['TensorFlow', -0.8824641516832458],\n",
       " ['Bash/Shell', -0.8901674568194127],\n",
       " ['F#', -0.8926374475958516],\n",
       " ['Elixir', -0.8944715813280871],\n",
       " ['Kotlin', -0.9006672091678207],\n",
       " ['DigitalOcean', -0.9032105266391445],\n",
       " ['PHPStorm', -0.9059606658911785],\n",
       " ['SQLite', -0.9102549903435275],\n",
       " ['Svelte', -0.9102749793355567],\n",
       " ['Firebase', -0.9135741435908264],\n",
       " ['React Native', -0.914080640817302],\n",
       " ['Unity 3D', -0.9228177592370739],\n",
       " ['RubyMine', -0.9234565595706082],\n",
       " ['Go', -0.9274993599392742],\n",
       " ['Apache Spark', -0.9307271729785116],\n",
       " ['Crystal', -0.933112245072441],\n",
       " ['MariaDB', -0.9342097697083349],\n",
       " ['Pulumi', -0.9387360067356566],\n",
       " ['MySQL', -0.9448529718368154],\n",
       " ['Ruby on Rails', -0.9497381232252166],\n",
       " ['Laravel', -0.9521572630587442],\n",
       " ['Elasticsearch', -0.9597636940784582],\n",
       " ['APL', -0.9614206298246039],\n",
       " ['Django', -0.9659466680301492],\n",
       " ['Deno', -0.9684997761256872],\n",
       " ['LISP', -0.9696640751917466],\n",
       " ['Xcode', -0.969881571461523],\n",
       " ['Ansible', -0.9735706322268036],\n",
       " ['Android Studio', -0.9756108854313237],\n",
       " ['C++', -0.9758187194038727],\n",
       " ['Sublime Text', -0.978816741629534],\n",
       " ['DynamoDB', -0.9796402715046287],\n",
       " ['Unreal Engine', -0.9822400469896858],\n",
       " ['Delphi', -0.9851753103968006],\n",
       " ['Flow', -1.000628825076917],\n",
       " ['Ruby', -1.0050654775455254],\n",
       " ['Haskell', -1.0137993927839595],\n",
       " ['BSD', -1.0145452220705087],\n",
       " ['RStudio', -1.019348368200304],\n",
       " ['Erlang', -1.019753352057004],\n",
       " ['Windows', -1.0199751437340976],\n",
       " ['Flask', -1.0307129811027866],\n",
       " ['Xamarin', -1.0361526135803871],\n",
       " ['Scala', -1.0369431036078145],\n",
       " ['Java', -1.0386279929494897],\n",
       " ['Other (please specify):', -1.0471048918981898],\n",
       " ['MacOS', -1.049213824871772],\n",
       " ['Linux-based', -1.0494972177220507],\n",
       " ['.NET Framework', -1.0519403862373884],\n",
       " ['Heroku', -1.0552766380956309],\n",
       " ['Gatsby', -1.0620950023947204],\n",
       " ['Symfony', -1.0669650376739586],\n",
       " ['Windows Subsystem for Linux (WSL)', -1.0764984980501928],\n",
       " ['Qt', -1.0791243933501407],\n",
       " ['PowerShell', -1.080246492576049],\n",
       " ['R', -1.0835844048530765],\n",
       " ['Hadoop', -1.0865628054401182],\n",
       " ['Oracle Cloud Infrastructure', -1.0870198997447988],\n",
       " ['Cassandra', -1.09956186081143],\n",
       " ['TextMate', -1.1238832453157854],\n",
       " ['Couchbase', -1.1416315301648927],\n",
       " ['IBM Cloud or Watson', -1.1551676893334113],\n",
       " ['C', -1.1628927636057285],\n",
       " ['PHP', -1.168725357188556],\n",
       " ['ASP.NET', -1.1776657223426596],\n",
       " ['Puppet', -1.2062879547560157],\n",
       " ['Assembly', -1.2293901148113349],\n",
       " ['Oracle', -1.2495812163227382],\n",
       " ['Perl', -1.251360278756259],\n",
       " ['jQuery', -1.2597420018873686],\n",
       " ['Chef', -1.2782474719438306],\n",
       " ['Atom', -1.3349689919952887],\n",
       " ['Objective-C', -1.348443207913128],\n",
       " ['Groovy', -1.3562354322483041],\n",
       " ['Eclipse', -1.366047554847418],\n",
       " ['Cordova', -1.3690605884923306],\n",
       " ['Angular.js', -1.3970880965053725],\n",
       " ['IBM DB2', -1.4139322892956112],\n",
       " ['COBOL', -1.4259832092552858],\n",
       " ['Drupal', -1.433130627578517],\n",
       " ['Matlab', -1.4762727484124234],\n",
       " ['VBA', -1.5081812713514562],\n",
       " ['NetBeans', -1.5329630392099356]]"
      ]
     },
     "execution_count": 26,
     "metadata": {},
     "output_type": "execute_result"
    }
   ],
   "source": [
    "prediction"
   ]
  },
  {
   "cell_type": "code",
   "execution_count": 27,
   "id": "2ebfdf7c",
   "metadata": {},
   "outputs": [],
   "source": [
    "# 写成一个function\n",
    "def predict_all(user):\n",
    "    #user = str(user)\n",
    "    prediction = []\n",
    "    for i in all_products:\n",
    "        a = predictRating(user,i)\n",
    "        prediction.append([i,a])\n",
    "        prediction.sort(key=lambda x: x[1],reverse=True)\n",
    "    return prediction"
   ]
  },
  {
   "cell_type": "markdown",
   "id": "11548aa4",
   "metadata": {},
   "source": [
    "## SVM with surprise"
   ]
  },
  {
   "cell_type": "code",
   "execution_count": 28,
   "id": "55969a3c",
   "metadata": {},
   "outputs": [],
   "source": [
    "from surprise import SVD\n",
    "from surprise import Dataset\n",
    "from surprise.model_selection import cross_validate\n",
    "from surprise import Reader\n",
    "from surprise import NormalPredictor\n",
    "from surprise.model_selection import GridSearchCV\n",
    "from surprise.model_selection import train_test_split\n",
    "from surprise import accuracy"
   ]
  },
  {
   "cell_type": "code",
   "execution_count": 29,
   "id": "aeeadac2",
   "metadata": {},
   "outputs": [],
   "source": [
    "# split the data into 0.9 and 0.1\n",
    "train = int(len(productsPerUser)*0.84)\n",
    "#test = int(len(productsPerUser)*0.84)"
   ]
  },
  {
   "cell_type": "code",
   "execution_count": 30,
   "id": "31b27493",
   "metadata": {},
   "outputs": [],
   "source": [
    "# split to train and valid\n",
    "all_user = [i for i in productsPerUser]\n",
    "train_user = all_user[:train]\n",
    "#test_user = all_user[train:test]\n",
    "valid_user = all_user[train:]"
   ]
  },
  {
   "cell_type": "code",
   "execution_count": 31,
   "id": "db332503",
   "metadata": {},
   "outputs": [],
   "source": [
    "# get the train data\n",
    "train_data = []\n",
    "for i in train_user:\n",
    "    for j in productsPerUser[i]:\n",
    "        train_data.append((i,j[0],j[1]))"
   ]
  },
  {
   "cell_type": "code",
   "execution_count": 32,
   "id": "115e37c9",
   "metadata": {},
   "outputs": [],
   "source": [
    "# get the valid data\n",
    "valid_data = []\n",
    "for i in valid_user:\n",
    "    for j in productsPerUser[i]:\n",
    "        valid_data.append((i,j[0],j[1]))"
   ]
  },
  {
   "cell_type": "code",
   "execution_count": 33,
   "id": "8cd47379",
   "metadata": {},
   "outputs": [
    {
     "data": {
      "text/plain": [
       "(1675602, 184024)"
      ]
     },
     "execution_count": 33,
     "metadata": {},
     "output_type": "execute_result"
    }
   ],
   "source": [
    "len(train_data),len(valid_data)"
   ]
  },
  {
   "cell_type": "code",
   "execution_count": 34,
   "id": "b4b15e6d",
   "metadata": {},
   "outputs": [],
   "source": [
    "# transform the data to dataframe, which is easy to handle\n",
    "train_df = pd.DataFrame(train_data,columns = ['userID', 'itemID', 'rating'])"
   ]
  },
  {
   "cell_type": "code",
   "execution_count": 35,
   "id": "99097028",
   "metadata": {},
   "outputs": [],
   "source": [
    "# scale, from -1 to 1\n",
    "reader = Reader(rating_scale=(-1,1))"
   ]
  },
  {
   "cell_type": "code",
   "execution_count": 82,
   "id": "4c1ed0a5",
   "metadata": {},
   "outputs": [],
   "source": [
    "# transform the data so that surprise package can handle the data\n",
    "data = Dataset.load_from_df(train_df[['userID', 'itemID', 'rating']], reader)"
   ]
  },
  {
   "cell_type": "code",
   "execution_count": 37,
   "id": "17e51025",
   "metadata": {},
   "outputs": [],
   "source": [
    "# split the train data to train and test\n",
    "trainset, testset = train_test_split(data, test_size=.25,random_state=88)"
   ]
  },
  {
   "cell_type": "code",
   "execution_count": 88,
   "id": "15dd8940",
   "metadata": {},
   "outputs": [
    {
     "name": "stdout",
     "output_type": "stream",
     "text": [
      "RMSE: 0.7242\n"
     ]
    },
    {
     "data": {
      "text/plain": [
       "0.7242416528642747"
      ]
     },
     "execution_count": 88,
     "metadata": {},
     "output_type": "execute_result"
    }
   ],
   "source": [
    "# define the svd function \n",
    "algo = SVD()\n",
    "\n",
    "# Train the algorithm on the trainset, and predict ratings for the testset\n",
    "algo.fit(trainset)\n",
    "predictions = algo.test(testset)\n",
    "\n",
    "# Then compute RMSE\n",
    "accuracy.rmse(predictions)"
   ]
  },
  {
   "cell_type": "code",
   "execution_count": 108,
   "id": "9b6adb41",
   "metadata": {},
   "outputs": [
    {
     "name": "stdout",
     "output_type": "stream",
     "text": [
      "average precision@5 is:  0.742517363713597\n",
      "average recall@5 is:  0.38397436317428796\n",
      "average f1 score @5 is  0.3274214711095368\n"
     ]
    }
   ],
   "source": [
    "predictions = algo.test(valid_data)\n",
    "\n",
    "precisions, recalls = precision_recall_at_k(predictions, k=5, threshold=0)\n",
    "\n",
    "print('average precision@5 is: ', sum(prec for prec in precisions.values()) / len(precisions))\n",
    "print('average recall@5 is: ',sum(rec for rec in recalls.values()) / len(recalls))\n",
    "print('average f1 score @5 is ', sum(prec*recall for prec, recall in zip(precisions.values(),recalls.values()))/len(precisions))"
   ]
  },
  {
   "cell_type": "code",
   "execution_count": 107,
   "id": "74f52696",
   "metadata": {},
   "outputs": [
    {
     "data": {
      "text/plain": [
       "0.3274214711095368"
      ]
     },
     "execution_count": 107,
     "metadata": {},
     "output_type": "execute_result"
    }
   ],
   "source": [
    "sum(prec*recall for prec, recall in zip(precisions.values(),recalls.values()))/len(precisions)"
   ]
  },
  {
   "cell_type": "code",
   "execution_count": 73,
   "id": "c7eae7e2",
   "metadata": {},
   "outputs": [
    {
     "data": {
      "text/plain": [
       "0.19885844149333615"
      ]
     },
     "execution_count": 73,
     "metadata": {},
     "output_type": "execute_result"
    }
   ],
   "source": [
    "len([i[1] for i in predictions if i[2] > 0 and i[3]>0])/len(testset)"
   ]
  },
  {
   "cell_type": "code",
   "execution_count": 77,
   "id": "fc77122a",
   "metadata": {},
   "outputs": [],
   "source": [
    "def precision_recall_at_k(predictions, k=10, threshold=3.5):\n",
    "    \"\"\"Return precision and recall at k metrics for each user\"\"\"\n",
    "\n",
    "    # First map the predictions to each user.\n",
    "    user_est_true = defaultdict(list)\n",
    "    for uid, _, true_r, est, _ in predictions:\n",
    "        user_est_true[uid].append((est, true_r))\n",
    "\n",
    "    precisions = dict()\n",
    "    recalls = dict()\n",
    "    for uid, user_ratings in user_est_true.items():\n",
    "\n",
    "        # Sort user ratings by estimated value\n",
    "        user_ratings.sort(key=lambda x: x[0], reverse=True)\n",
    "\n",
    "        # Number of relevant items\n",
    "        n_rel = sum((true_r >= threshold) for (_, true_r) in user_ratings)\n",
    "\n",
    "        # Number of recommended items in top k\n",
    "        n_rec_k = sum((est >= threshold) for (est, _) in user_ratings[:k])\n",
    "\n",
    "        # Number of relevant and recommended items in top k\n",
    "        n_rel_and_rec_k = sum(((true_r >= threshold) and (est >= threshold))\n",
    "                              for (est, true_r) in user_ratings[:k])\n",
    "\n",
    "        # Precision@K: Proportion of recommended items that are relevant\n",
    "        # When n_rec_k is 0, Precision is undefined. We here set it to 0.\n",
    "\n",
    "        precisions[uid] = n_rel_and_rec_k / n_rec_k if n_rec_k != 0 else 0\n",
    "\n",
    "        # Recall@K: Proportion of relevant items that are recommended\n",
    "        # When n_rel is 0, Recall is undefined. We here set it to 0.\n",
    "\n",
    "        recalls[uid] = n_rel_and_rec_k / n_rel if n_rel != 0 else 0\n",
    "\n",
    "    return precisions, recalls"
   ]
  },
  {
   "cell_type": "code",
   "execution_count": 84,
   "id": "27ac1c05",
   "metadata": {},
   "outputs": [
    {
     "name": "stdout",
     "output_type": "stream",
     "text": [
      "0.6913043904254834\n",
      "0.6699878741339812\n",
      "0.6880389361628823\n",
      "0.6619463124800661\n",
      "0.6901556244823995\n",
      "0.6642843525601966\n",
      "0.6897264266470409\n",
      "0.6624363267484099\n",
      "0.6911000621807948\n",
      "0.6652445920940238\n"
     ]
    }
   ],
   "source": [
    "# use kfold with 5 folds and find precision and recall for 5 times\n",
    "kf = KFold(n_splits=5)\n",
    "algo = SVD()\n",
    "\n",
    "for trainset, testset in kf.split(data):\n",
    "    algo.fit(trainset)\n",
    "    predictions = algo.test(testset)\n",
    "    precisions, recalls = precision_recall_at_k(predictions, k=5, threshold=0)\n",
    "\n",
    "    # Precision and recall can then be averaged over all users\n",
    "    print(sum(prec for prec in precisions.values()) / len(precisions))\n",
    "    print(sum(rec for rec in recalls.values()) / len(recalls))"
   ]
  },
  {
   "cell_type": "code",
   "execution_count": null,
   "id": "3dc5b9da",
   "metadata": {},
   "outputs": [],
   "source": []
  }
 ],
 "metadata": {
  "kernelspec": {
   "display_name": "Python 3",
   "language": "python",
   "name": "python3"
  },
  "language_info": {
   "codemirror_mode": {
    "name": "ipython",
    "version": 3
   },
   "file_extension": ".py",
   "mimetype": "text/x-python",
   "name": "python",
   "nbconvert_exporter": "python",
   "pygments_lexer": "ipython3",
   "version": "3.8.8"
  }
 },
 "nbformat": 4,
 "nbformat_minor": 5
}
