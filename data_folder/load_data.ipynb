{
 "cells": [
  {
   "cell_type": "code",
   "execution_count": 15,
   "id": "40cbb331",
   "metadata": {},
   "outputs": [],
   "source": [
    "def get_data(filename=  'data_pos_neg_neu.txt'):\n",
    "    '''\n",
    "    read the list of dict for postive,negative,neutral feedback\n",
    "    '''\n",
    "    data = []\n",
    "    with open(filename) as f:\n",
    "        for i, line in enumerate(f):\n",
    "            try:\n",
    "                d = eval(line)\n",
    "            except:\n",
    "                print(\"*****Error*****\")\n",
    "                print(i,line)\n",
    "                print(\"*********END of ERROR *******\")\n",
    "                break\n",
    "            else:\n",
    "                data.append(d)\n",
    "    return data"
   ]
  },
  {
   "cell_type": "code",
   "execution_count": 16,
   "id": "b71aa0f2",
   "metadata": {},
   "outputs": [],
   "source": [
    "data = get_data()"
   ]
  },
  {
   "cell_type": "code",
   "execution_count": 17,
   "id": "4bfb092f",
   "metadata": {},
   "outputs": [],
   "source": [
    "def transform_data(data,four_deg = True):\n",
    "    '''\n",
    "    read in the postive, negative,neutral data\n",
    "    perform one of the following transformation\n",
    "        if four_deg:\n",
    "          4 degree \"one-hot encoding\" (0:missing,1:Neutral, 5:positive,-5 negative)\n",
    "        else:\n",
    "          user-product interact \n",
    "    '''\n",
    "    transformed = []\n",
    "    for i,sample in enumerate(data):\n",
    "        user_id = i+1\n",
    "        if four_deg:\n",
    "            product_feedback = [0] * len(product_id_map)\n",
    "            # pos : 5 ,neg: -5, neutral: 1 missing 0\n",
    "            for p in sample['pos']:\n",
    "                product_feedback[product_id_map[p]] = 5\n",
    "            for neg in sample['neg']:\n",
    "                product_feedback[product_id_map[neg]] = -5\n",
    "            for neu in sample['neu']:\n",
    "                product_feedback[product_id_map[neg]] = 1\n",
    "            transformed.append([user_id]+product_feedback)\n",
    "        else:\n",
    "            for p in sample['pos']:\n",
    "                transformed.append([user_id,product_id_map[p],5])\n",
    "            for neg in sample['neg']:\n",
    "                transformed.append([user_id,product_id_map[neg],-5])\n",
    "            for neu in sample['neu']:\n",
    "                transformed.append([user_id,product_id_map[neu],1])\n",
    "    return transformed"
   ]
  },
  {
   "cell_type": "code",
   "execution_count": 10,
   "id": "2673215f",
   "metadata": {},
   "outputs": [],
   "source": [
    "with open('product_id_map.txt', 'r', encoding='utf-8') as map_file:\n",
    "    product_id_map = eval(map_file.readline())"
   ]
  },
  {
   "cell_type": "code",
   "execution_count": 18,
   "id": "fa8da559",
   "metadata": {},
   "outputs": [
    {
     "data": {
      "text/plain": [
       "dict_keys(['Flutter', 'APL', 'Oracle Cloud Infrastructure', 'Bash/Shell', 'LISP', 'TypeScript', 'Julia', 'Torch/PyTorch', '.NET Core / .NET 5', 'C', 'PowerShell', 'Redis', 'Eclipse', 'Django', 'Elasticsearch', 'Hadoop', 'C++', 'Vim', 'Deno', 'Google Cloud Platform', 'Terraform', 'COBOL', 'ASP.NET Core', 'Express', 'Couchbase', 'Kotlin', 'Swift', 'Yarn', 'MariaDB', 'Vue.js', 'NumPy', 'Clojure', 'Webstorm', 'F#', 'React Native', 'Cassandra', 'Scala', 'RubyMine', 'VBA', 'Ansible', 'Symfony', 'ASP.NET', 'Atom', 'Perl', 'Git', 'Erlang', 'NetBeans', 'Keras', 'Matlab', 'Gatsby', 'PostgreSQL', 'Visual Studio Code', 'MacOS', 'Other (please specify):', 'Docker', 'Windows Subsystem for Linux (WSL)', 'Node.js', 'Chef', '.NET Framework', 'Firebase', 'Go', 'Xcode', 'PyCharm', 'Crystal', 'Rust', 'Drupal', 'MySQL', 'Angular', 'SQLite', 'DynamoDB', 'Objective-C', 'Ruby on Rails', 'Qt', 'Elixir', 'MongoDB', 'IntelliJ', 'Laravel', 'TextMate', 'R', 'Apache Spark', 'Notepad++', 'Svelte', 'PHPStorm', 'Kubernetes', 'Assembly', 'React.js', 'Rider', 'Groovy', 'Unity 3D', 'DigitalOcean', 'Android Studio', 'Haskell', 'Angular.js', 'Heroku', 'Java', 'RStudio', 'Dart', 'IBM DB2', 'Linux-based', 'Visual Studio', 'Ruby', 'Neovim', 'SQL', 'C#', 'Windows', 'Emacs', 'Pulumi', 'HTML/CSS', 'FastAPI', 'PHP', 'TensorFlow', 'Puppet', 'Sublime Text', 'Microsoft SQL Server', 'Spring', 'JavaScript', 'Python', 'Flask', 'Xamarin', 'Pandas', 'Cordova', 'BSD', 'AWS', 'IPython/Jupyter', 'IBM Cloud or Watson', 'jQuery', 'Delphi', 'Microsoft Azure', 'Oracle', 'Unreal Engine', 'Flow'])"
      ]
     },
     "execution_count": 18,
     "metadata": {},
     "output_type": "execute_result"
    }
   ],
   "source": [
    "product_id_map.keys()"
   ]
  },
  {
   "cell_type": "code",
   "execution_count": 19,
   "id": "d0711c8d",
   "metadata": {},
   "outputs": [],
   "source": [
    "transformed= transform_data(data,four_deg = False)"
   ]
  },
  {
   "cell_type": "code",
   "execution_count": 28,
   "id": "25f7a570",
   "metadata": {},
   "outputs": [
    {
     "data": {
      "text/plain": [
       "[1, 68, 5]"
      ]
     },
     "execution_count": 28,
     "metadata": {},
     "output_type": "execute_result"
    }
   ],
   "source": [
    "transformed[0] # user_id, product_id, rating"
   ]
  },
  {
   "cell_type": "code",
   "execution_count": 31,
   "id": "bee13ad6",
   "metadata": {},
   "outputs": [],
   "source": [
    "with open('transformed_user_product_interaction.txt','w') as outf:\n",
    "    for sample in transformed:\n",
    "        outf.write(str(sample))\n",
    "        outf.write('\\n')"
   ]
  },
  {
   "cell_type": "code",
   "execution_count": 32,
   "id": "72271067",
   "metadata": {},
   "outputs": [],
   "source": [
    "def load_transformed(file_path = 'transformed_user_product_interaction.txt'):\n",
    "    transformed = []\n",
    "    with open(file_path,'r') as inf:\n",
    "        for line in inf:\n",
    "            transformed.append(eval(line))\n",
    "    return transformed"
   ]
  },
  {
   "cell_type": "code",
   "execution_count": 19,
   "id": "a80ed535",
   "metadata": {},
   "outputs": [],
   "source": [
    "def get_data_ss(filename=  'processed_data.txt'):\n",
    "    '''\n",
    "    read the list of dict for postive,negative,neutral feedback\n",
    "    '''\n",
    "    user_list =[]\n",
    "    product_list =[]\n",
    "    rate_list = []\n",
    "    with open(filename) as f:\n",
    "        for i, line in enumerate(f):\n",
    "            try:\n",
    "                user,product,rate = line.split(',')\n",
    "                user_id = int(user[len('user'):]) + 1\n",
    "                rate =int(rate)\n",
    "            except:\n",
    "                print(\"*****Error*****\")\n",
    "                print(i,line)\n",
    "                print(\"*********END of ERROR *******\")\n",
    "                break\n",
    "            else:\n",
    "                user_list.append(user_id) \n",
    "                product_list.append(product)\n",
    "                rate_list.append(rate)\n",
    "    return user_list,product_list,rate_list"
   ]
  },
  {
   "cell_type": "code",
   "execution_count": 20,
   "id": "3c23d30f",
   "metadata": {},
   "outputs": [],
   "source": [
    "user,prod,rate = get_data_ss()"
   ]
  },
  {
   "cell_type": "code",
   "execution_count": 63,
   "id": "1f9faafe",
   "metadata": {},
   "outputs": [
    {
     "data": {
      "text/plain": [
       "(82923, 83439)"
      ]
     },
     "execution_count": 63,
     "metadata": {},
     "output_type": "execute_result"
    }
   ],
   "source": [
    "# number of user \n",
    "len(set(user)), len(data)"
   ]
  },
  {
   "cell_type": "code",
   "execution_count": 64,
   "id": "01f44a08",
   "metadata": {},
   "outputs": [
    {
     "data": {
      "text/plain": [
       "(126, 131)"
      ]
     },
     "execution_count": 64,
     "metadata": {},
     "output_type": "execute_result"
    }
   ],
   "source": [
    "# number of product\n",
    "len(set(prod)),len(set(product_id_map.keys()))"
   ]
  },
  {
   "cell_type": "code",
   "execution_count": 29,
   "id": "7f94ae66",
   "metadata": {},
   "outputs": [
    {
     "data": {
      "text/plain": [
       "{'BSD',\n",
       " 'Linux-based',\n",
       " 'MacOS',\n",
       " 'Other (please specify):',\n",
       " 'Windows',\n",
       " 'Windows Subsystem for Linux (WSL)'}"
      ]
     },
     "execution_count": 29,
     "metadata": {},
     "output_type": "execute_result"
    }
   ],
   "source": [
    "# the difference\n",
    "set(product_id_map.keys()).difference(set(prod))"
   ]
  },
  {
   "cell_type": "code",
   "execution_count": 35,
   "id": "ae96bd92",
   "metadata": {},
   "outputs": [],
   "source": [
    "# find differ user\n",
    "differ_user = set(range(1,83440)).difference(set(user))"
   ]
  },
  {
   "cell_type": "code",
   "execution_count": 36,
   "id": "2e699f65",
   "metadata": {},
   "outputs": [],
   "source": [
    "import pandas as pd"
   ]
  },
  {
   "cell_type": "code",
   "execution_count": 37,
   "id": "184413ea",
   "metadata": {},
   "outputs": [],
   "source": [
    "kag_response_path = '/home/yel004/CSE258/project_data/survey_results_responses.csv'\n",
    "kag_response = pd.read_csv(kag_response_path)"
   ]
  },
  {
   "cell_type": "code",
   "execution_count": 38,
   "id": "a37bd48c",
   "metadata": {},
   "outputs": [
    {
     "data": {
      "text/plain": [
       "516"
      ]
     },
     "execution_count": 38,
     "metadata": {},
     "output_type": "execute_result"
    }
   ],
   "source": [
    "len(differ_user)"
   ]
  },
  {
   "cell_type": "code",
   "execution_count": 46,
   "id": "0d80bb31",
   "metadata": {},
   "outputs": [
    {
     "data": {
      "text/plain": [
       "61441"
      ]
     },
     "execution_count": 46,
     "metadata": {},
     "output_type": "execute_result"
    }
   ],
   "source": [
    "differ_user = list(differ_user)\n",
    "differ_user[0]"
   ]
  },
  {
   "cell_type": "code",
   "execution_count": 48,
   "id": "458dc943",
   "metadata": {},
   "outputs": [],
   "source": [
    "tech = ['LanguageHaveWorkedWith', 'LanguageWantToWorkWith',\n",
    "       'DatabaseHaveWorkedWith', 'DatabaseWantToWorkWith',\n",
    "       'PlatformHaveWorkedWith', 'PlatformWantToWorkWith',\n",
    "       'WebframeHaveWorkedWith', 'WebframeWantToWorkWith',\n",
    "       'MiscTechHaveWorkedWith', 'MiscTechWantToWorkWith',\n",
    "       'ToolsTechHaveWorkedWith', 'ToolsTechWantToWorkWith',\n",
    "       'NEWCollabToolsHaveWorkedWith', 'NEWCollabToolsWantToWorkWith']\n",
    "for index in  differ_user:\n",
    "    d = kag_response.iloc[index-1]\n",
    "    tech_count = 0\n",
    "    for cat in tech:\n",
    "        tech_count += not pd.isna(d[cat])"
   ]
  },
  {
   "cell_type": "code",
   "execution_count": 65,
   "id": "da3f1a28",
   "metadata": {},
   "outputs": [
    {
     "data": {
      "text/plain": [
       "0"
      ]
     },
     "execution_count": 65,
     "metadata": {},
     "output_type": "execute_result"
    }
   ],
   "source": [
    "tech_count"
   ]
  },
  {
   "cell_type": "code",
   "execution_count": 50,
   "id": "5f64c04c",
   "metadata": {},
   "outputs": [],
   "source": [
    "pos_count = 0\n",
    "neg_count = 0\n",
    "neu_count = 0\n",
    "for d in data:\n",
    "    pos_count += len(d['pos'])\n",
    "    neg_count += len(d['neg'])\n",
    "    neu_count += len(d['neu'])"
   ]
  },
  {
   "cell_type": "code",
   "execution_count": 51,
   "id": "d36ed5a6",
   "metadata": {},
   "outputs": [
    {
     "data": {
      "text/plain": [
       "(859773, 572505, 427348)"
      ]
     },
     "execution_count": 51,
     "metadata": {},
     "output_type": "execute_result"
    }
   ],
   "source": [
    "pos_count,neg_count,neu_count"
   ]
  },
  {
   "cell_type": "code",
   "execution_count": 58,
   "id": "29a1a30f",
   "metadata": {},
   "outputs": [],
   "source": [
    "rate_tran = [s[-1] for s in transformed]"
   ]
  },
  {
   "cell_type": "code",
   "execution_count": 54,
   "id": "6be73911",
   "metadata": {},
   "outputs": [
    {
     "data": {
      "text/plain": [
       "(1859626, 1432264)"
      ]
     },
     "execution_count": 54,
     "metadata": {},
     "output_type": "execute_result"
    }
   ],
   "source": [
    "# sample count\n",
    "len(transformed),len(rate)"
   ]
  },
  {
   "cell_type": "code",
   "execution_count": 56,
   "id": "ce52665e",
   "metadata": {},
   "outputs": [],
   "source": [
    "# case count\n",
    "from collections import Counter"
   ]
  },
  {
   "cell_type": "code",
   "execution_count": 60,
   "id": "3f93d993",
   "metadata": {},
   "outputs": [
    {
     "data": {
      "text/plain": [
       "Counter({-1: 418020, 1: 858089, 0: 156155})"
      ]
     },
     "execution_count": 60,
     "metadata": {},
     "output_type": "execute_result"
    }
   ],
   "source": [
    "# from Wei\n",
    "Counter(rate) # 0 neutral , 1 : positive, -1 negative"
   ]
  },
  {
   "cell_type": "code",
   "execution_count": 59,
   "id": "3e42c8fe",
   "metadata": {},
   "outputs": [
    {
     "data": {
      "text/plain": [
       "Counter({5: 859773, -5: 572505, 1: 427348})"
      ]
     },
     "execution_count": 59,
     "metadata": {},
     "output_type": "execute_result"
    }
   ],
   "source": [
    "# My interpretation\n",
    "Counter(rate_tran) # 5 positive, -5 negative , 1 neutral"
   ]
  },
  {
   "cell_type": "code",
   "execution_count": 6,
   "id": "57d65ee3",
   "metadata": {},
   "outputs": [
    {
     "data": {
      "text/plain": [
       "{'pos': [], 'neg': [], 'neu': []}"
      ]
     },
     "execution_count": 6,
     "metadata": {},
     "output_type": "execute_result"
    }
   ],
   "source": [
    "data[325]"
   ]
  },
  {
   "cell_type": "code",
   "execution_count": 7,
   "id": "3b169dc6",
   "metadata": {},
   "outputs": [
    {
     "data": {
      "text/plain": [
       "{'pos': ['SQLite',\n",
       "  'Python',\n",
       "  'Rust',\n",
       "  'TensorFlow',\n",
       "  'Torch/PyTorch',\n",
       "  'Pandas',\n",
       "  'NumPy',\n",
       "  'IPython/Jupyter',\n",
       "  'Visual Studio Code',\n",
       "  'RStudio',\n",
       "  'Sublime Text',\n",
       "  'Flask'],\n",
       " 'neg': ['R', 'Assembly', 'C', 'PyCharm', 'Heroku'],\n",
       " 'neu': ['Julia', 'Keras', 'MacOS']}"
      ]
     },
     "execution_count": 7,
     "metadata": {},
     "output_type": "execute_result"
    }
   ],
   "source": [
    "data[2]"
   ]
  },
  {
   "cell_type": "code",
   "execution_count": null,
   "id": "74c8c657",
   "metadata": {},
   "outputs": [],
   "source": [
    "# neu : want to work but not worked"
   ]
  },
  {
   "cell_type": "code",
   "execution_count": 14,
   "id": "2a37cbf2",
   "metadata": {},
   "outputs": [
    {
     "data": {
      "text/plain": [
       "131"
      ]
     },
     "execution_count": 14,
     "metadata": {},
     "output_type": "execute_result"
    }
   ],
   "source": [
    "len(product_id_map)"
   ]
  },
  {
   "cell_type": "code",
   "execution_count": null,
   "id": "a0a40ad1",
   "metadata": {},
   "outputs": [],
   "source": []
  }
 ],
 "metadata": {
  "kernelspec": {
   "display_name": "Python 3 (clean)",
   "language": "python",
   "name": "python3_clean"
  },
  "language_info": {
   "codemirror_mode": {
    "name": "ipython",
    "version": 3
   },
   "file_extension": ".py",
   "mimetype": "text/x-python",
   "name": "python",
   "nbconvert_exporter": "python",
   "pygments_lexer": "ipython3",
   "version": "3.9.5"
  }
 },
 "nbformat": 4,
 "nbformat_minor": 5
}
